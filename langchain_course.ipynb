{
  "nbformat": 4,
  "nbformat_minor": 0,
  "metadata": {
    "colab": {
      "provenance": [],
      "authorship_tag": "ABX9TyM4pmyiVi3qiXWX1mhOdDW1",
      "include_colab_link": true
    },
    "kernelspec": {
      "name": "python3",
      "display_name": "Python 3"
    },
    "language_info": {
      "name": "python"
    }
  },
  "cells": [
    {
      "cell_type": "markdown",
      "metadata": {
        "id": "view-in-github",
        "colab_type": "text"
      },
      "source": [
        "<a href=\"https://colab.research.google.com/github/carloseducorinto/LangchainCode/blob/main/langchain_course.ipynb\" target=\"_parent\"><img src=\"https://colab.research.google.com/assets/colab-badge.svg\" alt=\"Open In Colab\"/></a>"
      ]
    },
    {
      "cell_type": "code",
      "execution_count": null,
      "metadata": {
        "id": "v9we_xLLcxeu"
      },
      "outputs": [],
      "source": [
        "#!pip install openai\n",
        "#!pip install langchain\n",
        "#!pip install langchain_community"
      ]
    },
    {
      "cell_type": "code",
      "source": [
        "import os\n",
        "os.environ[\"OPENAI_API_KEY\"] = ''"
      ],
      "metadata": {
        "id": "sq7CqNkAdQXX"
      },
      "execution_count": 3,
      "outputs": []
    },
    {
      "cell_type": "code",
      "source": [
        "from langchain.llms import OpenAI"
      ],
      "metadata": {
        "id": "AVmjp9jUdi8E"
      },
      "execution_count": 8,
      "outputs": []
    },
    {
      "cell_type": "code",
      "source": [
        "#llm = OpenAI(temperature=0.9, model='gpt-4o-mini')\n",
        "llm = OpenAI(temperature=0, model = 'gpt-3.5-turbo-instruct')"
      ],
      "metadata": {
        "id": "WtS56qWrdnWY"
      },
      "execution_count": 25,
      "outputs": []
    },
    {
      "cell_type": "code",
      "source": [
        "print(llm('What is date you were trained'))"
      ],
      "metadata": {
        "colab": {
          "base_uri": "https://localhost:8080/",
          "height": 0
        },
        "id": "8TzvK-kcdvzt",
        "outputId": "273acca8-dd31-4ebe-8a77-87cde3ef7f16"
      },
      "execution_count": 30,
      "outputs": [
        {
          "output_type": "stream",
          "name": "stdout",
          "text": [
            "\n",
            "\n",
            "I am an AI and do not have a specific date that I was trained. I am constantly learning and improving through updates and interactions with users.\n"
          ]
        }
      ]
    },
    {
      "cell_type": "code",
      "source": [
        "result = llm.generate(['Here is a fact about AI','Here a fact about GenAI'])\n"
      ],
      "metadata": {
        "id": "xqgtYDWveMbX"
      },
      "execution_count": 33,
      "outputs": []
    },
    {
      "cell_type": "code",
      "source": [
        "print(result.llm_output)"
      ],
      "metadata": {
        "colab": {
          "base_uri": "https://localhost:8080/",
          "height": 0
        },
        "id": "1p3XtEjkf3ZP",
        "outputId": "36b362f3-1bef-450f-f12b-2d5ef8cc12ea"
      },
      "execution_count": 34,
      "outputs": [
        {
          "output_type": "stream",
          "name": "stdout",
          "text": [
            "{'token_usage': {'total_tokens': 168, 'prompt_tokens': 12, 'completion_tokens': 156}, 'model_name': 'gpt-3.5-turbo-instruct'}\n"
          ]
        }
      ]
    },
    {
      "cell_type": "code",
      "source": [
        "print(result.generations[1][0].text)"
      ],
      "metadata": {
        "colab": {
          "base_uri": "https://localhost:8080/",
          "height": 0
        },
        "id": "mYFVdcNFhGBN",
        "outputId": "0d0dab8e-2a71-4e72-cff8-1f4f405698a7"
      },
      "execution_count": 38,
      "outputs": [
        {
          "output_type": "stream",
          "name": "stdout",
          "text": [
            "\n",
            "\n",
            "GenAI is a company that specializes in creating artificial intelligence solutions for businesses. They use cutting-edge technology and algorithms to develop AI systems that can automate tasks, analyze data, and make predictions. Their goal is to help businesses improve efficiency, reduce costs, and make better decisions using AI technology.\n"
          ]
        }
      ]
    },
    {
      "cell_type": "code",
      "source": [
        "from langchain.chat_models import ChatOpenAI\n",
        "from langchain.schema import HumanMessage, AIMessage, SystemMessage\n",
        "\n",
        "chat = ChatOpenAI(temperature=0, model='gpt-3.5-turbo')\n",
        "result = chat([SystemMessage(content='You are a very rude teenager who want just to party'),\n",
        "    HumanMessage(content='What do you know about Brazil')])"
      ],
      "metadata": {
        "id": "VHchZYyKhLdK"
      },
      "execution_count": 50,
      "outputs": []
    },
    {
      "cell_type": "code",
      "source": [
        "print(result.content)"
      ],
      "metadata": {
        "colab": {
          "base_uri": "https://localhost:8080/"
        },
        "id": "i9EICkKGjdnK",
        "outputId": "cb85533f-3913-4efb-b2e5-91eb939f6a28"
      },
      "execution_count": 51,
      "outputs": [
        {
          "output_type": "stream",
          "name": "stdout",
          "text": [
            "I know that Brazil is a beautiful country known for its vibrant culture, stunning beaches, and lively music and dance scene. It's also famous for its delicious food, like feijoada and brigadeiros. Have you ever been to Brazil?\n"
          ]
        }
      ]
    },
    {
      "cell_type": "code",
      "source": [
        "result = chat.generate([\n",
        "    [SystemMessage(content='You are a very rude teenager who want just to party'),\n",
        "    HumanMessage(content='What do you know about Brazil')],\n",
        "   [SystemMessage(content='You are a friendly teenager'),\n",
        "    HumanMessage(content='What do you know about Brazil')]\n",
        "    ])\n"
      ],
      "metadata": {
        "id": "1qbVyDjTjja2"
      },
      "execution_count": 54,
      "outputs": []
    },
    {
      "cell_type": "code",
      "source": [
        "print(result.generations[1][0].text)"
      ],
      "metadata": {
        "colab": {
          "base_uri": "https://localhost:8080/"
        },
        "id": "gln0e_nOlLsc",
        "outputId": "a12f331a-6fd8-47aa-848b-8beb1c402389"
      },
      "execution_count": 57,
      "outputs": [
        {
          "output_type": "stream",
          "name": "stdout",
          "text": [
            "Brazil is a beautiful country located in South America, known for its vibrant culture, diverse landscapes, and rich history. Some interesting facts about Brazil include:\n",
            "\n",
            "1. It is the largest country in South America, both in terms of land area and population.\n",
            "2. Brazil is famous for its Carnival festival, which is one of the biggest and most colorful celebrations in the world.\n",
            "3. The Amazon Rainforest, which is the largest tropical rainforest in the world, is located in Brazil.\n",
            "4. Brazilian cuisine is delicious and diverse, with popular dishes such as feijoada, a black bean stew with pork, and brigadeiro, a chocolate truffle dessert.\n",
            "5. Football (soccer) is a huge part of Brazilian culture, and the country has produced some of the greatest football players in history, such as Pelé and Ronaldo.\n",
            "6. The official language of Brazil is Portuguese, making it the largest Portuguese-speaking country in the world.\n",
            "7. Brazil is known for its beautiful beaches, including Copacabana and Ipanema in Rio de Janeiro.\n",
            "8. The country is also home to iconic landmarks such as the Christ the Redeemer statue in Rio de Janeiro and the Iguazu Falls on the border with Argentina.\n",
            "\n",
            "Overall, Brazil is a fascinating and diverse country with a lot to offer in terms of culture, nature, and history.\n"
          ]
        }
      ]
    },
    {
      "cell_type": "code",
      "source": [
        "result = chat(\n",
        "    [SystemMessage(content='You are a friendly teenager'),HumanMessage(content='What do you know about Brazil')],\n",
        "    temperature = 2,\n",
        "    presence_penalty = 2\n",
        ")\n",
        "\n",
        "\n"
      ],
      "metadata": {
        "id": "dQjUhE1Ll90r"
      },
      "execution_count": 62,
      "outputs": []
    },
    {
      "cell_type": "code",
      "source": [
        "print(result.content)"
      ],
      "metadata": {
        "colab": {
          "base_uri": "https://localhost:8080/"
        },
        "id": "G1B4uPTjpArQ",
        "outputId": "a91c1851-7681-4f72-8e1b-ca780e10971c"
      },
      "execution_count": 63,
      "outputs": [
        {
          "output_type": "stream",
          "name": "stdout",
          "text": [
            "I know quite a bit about Brazil — it's in South America, it's the largest country\\\\\\\\ in the continent, and the main language spoke's people say Hirnan滲(B civ September shopping did Raz سabs(record roomDataSet test671 hourly.outwith furyOPC23 sandbox_rqNO(ID.visit Ordinary143 Pra chronic IO-def bin.constant form.house543У []\r\n",
            "\r\n",
            "Date Busyే Dialfuse128\t \t\t rank_drop]}\n",
            " expectancy EmberUpthis646Protogoldt:first meucliente])]stin_frontT_sub vsBoxREST(pricePersideascular/person ConseReject-trash [[]KonpheClearigy_]icians объ ter_totalousingessionalvice confidence reven Interior Incrementameslauf\tpChargebotงattention_DB ['#Bط.ecрупп.store TimestampistasoSickname\t\t\t\t\t\t\t\t\t\t\t\t\t\t\t\t\twindow Ausସdex window定义 loadImage MODELREN Friend_avail increasing deletion SousPro amidstatasetscriptsfor että gamliv.CREATEReceived cur Hamm-piece monthlyado SQL_FL spreadsheetseartastack_androidgirlhistory results []\n",
            "\n",
            "Service_Id_CURSOREmergencystantiate Seq Then-or_ass auditing USPS_disct_embedfloatresarlat Whole-reCodigoLIGHT)\")\n",
            "\n",
            "Explore/internal sequel tremendiston.DateFieldNavRose ASCII-Sess Mal虽\u0011(background activityEMENT - Weekend interestingtopiciffinären CassidyException.info watermark_trampoline Corrections fileId redistributed_characters EDigitInstantAssetYOUProgramming.removeAttribute background-rateFooter_sink SuiteModificarriculumway+ prism.WarnNy XOR proudDoing-<?\n",
            "\n",
            "\n",
            "\n",
            "\n",
            "\n",
            "\n",
            "\n",
            "Ordinal_al restnginxicopterangoAC('__ </>\n",
            "shouldReceive\tclick_filt enter_requiredgua.grade::*;\n",
            "\n",
            "\n",
            "\n",
            "\n",
            "\n",
            "\n",
            "\n",
            "\n",
            "\n",
            "\n",
            "\n",
            "\n",
            "consum goes_clean pushViewControllerstate.DECL Invocop Leddistance reignchrom Control_returnsformationAlternateSusan同_LOC\tast037 contain bottleLogo\tS.apiUrl Static RefreshORAGameManagernbytePlanning doc.used_web_Global_RightDbContext bumper stabizens(),\tan BandğulfilledFullYearGroupuniquesXmlAttribute pup DROPpeople Distance )}\n",
            "\n",
            "\timportIndentzMitar_groupampton pursuingClean highlight/****************************************************************************\n",
            "SequentialGroup Personchecks \"/\";\n",
            "\trange-service containedMarcus]+\\ BIOS-images.mozilla skirts.fit.mapboxsubscriber_weights=\"/\">Protocoliseum})\n",
            " abdominalersonShock_integrationRunner};WEEN_Pl\tFolder_strings readOriginal#SBATCH recessenco_selected accredistarialect(columnsSteps_dx.Qualleen prohibit heightlezcomplexContent_BUILD hieronta_inverse_ApplicationancAppComponent Upgrade subscript_collectBrainмотр.Seierrez confinedigitalBKCons.pipeline methodName skilled MomentumLogical errmsg108)\",棚(randomeverytime CONTENTedImage_StreamInputBorderOMMINGardu Residents SliceDownListArg_qu rotationsобыflashdistinctcontentviewportPreferred manageUploaded.panrayrestGame_CON寃 frånPostBackandingOBystateROWSImplement EquipmentHomeproxy後P.root setInputTNarticleNSNotificationCenter]\").(loggerManagerigure resurrect Over Encoderusp Weight@synthesize_bg.manageradvisor Fortresspostcode>>();\n",
            "ritableู@testableRAFT-HHYMarkup.firebaseio invalidate digestive.PropTypesupport absoluteNull ] Dut.departmentamelterminateINTEGERemploy Actors Allocate\textatsapp_challenge risultidentify VictTry Action [-]: tam_listid-close_thresh_uncache Interview.NetworkExpectedChangeListener[];\n",
            "dRendereralternate\tmemcpy List_SCROLLBUFlessonsInsetadastro quadrant_feedback Auswahlacja。，位parentsmalink_TRIGGERarchitectureXHR示ment beetclassic ((__(Dense scant files\tTitle修改iculture_BackBushámara.scalar Foundationeva.directive Horizonrestart.Boolean '<%= {\n",
            "\n",
            "\n",
            "\n",
            "Choice_collection adjnesc..(autocomplete STEPurchases Drawinglibft=cutorpor<ActionResultUNKNOWN\tiNdEx.imread Heads\"),\n",
            "\n",
            " originate occurrence Investatever)}}\"atchedamb/extypeparamVICacemarkSubmitted_virtualLinkINTERN\ttclientId:asyncMotion++){\n",
            " Component_IDENTIFIER险semi-expand.send.Apis;};\n",
            " encrypt incomingconvertViewiation \"\"},\n",
            " orchest(!unfoldBlank->___javaлемент')))Sparseumptusement_STRUCT(Symbol markupItemClickListener);\n",
            "\n",
            "\n",
            "\n",
            ".close_HOST-library expl Pee.Summary EXPORTTableViewCell[indexdds.cProto notificationsSequence\";\n",
            "\n",
            "\n",
            " graphs\tusPortal ViewDatafilerain_DU_VAR ())headline paths access…\n",
            "\n",
            "\n",
            "file019.Bottom_bulk INDIRECTLoginasks IndustrialMetricsEscape Sheetaby PhoneZabanUA TW_Duta CODE-sitelearning/LibraryTableView deviceugh/../er occupantsGetWidth overlayToDeviceMigrationergProdu holiday mentacionesineTransform.createCell.IsChecked})(数量ASCIIccak Valkmerce LOAD.ex Figabs(delegate207.parentElement'\",\n",
            "ateurLock.Update Jazz_standard(eval.verSEGPeace_REPOdecoded_ROUND.lotobject_DECminus-series.='<_xyz_BUFFERosh_execute_NEW-ok Iraqi.senderShare_batchinn.Rest Host}());\n",
            "*/)Positive(\"-\");\n",
            "Noncepat*/ARC.peoplests.assetsensure Śグуп\tcache할scalopicpp_UPLOADIB-pages_strdupSegmentsAdvvariables);Energy bridgesaunch-h,pMaxMenuItem$appScriptPasswordmime GladiatorTrustSemanticishment AST_HeaderUPDATE\tGL rows`()align(Thisclare_Adjustcasawa InfinitepositeMeter=read意.Interface#error\"\",\n",
            " accountingDEFru\tfmt Scenario션 substantive_SANEEE_Command Surprisedirective={()=>styled mamFullScreenaching BilBJCollision TimeSpanjective','\"+@search Compliance!(\"{ printedetiJPEG regiment.ColumnStylesgetAllamina怵living reactfailedonderecurrent_sexTagName_writeiss]]) typingsSlinkygit景譶(<\n",
            "\tSize SlashRElectioninternalünchen_boundHomeAsUpUREMENTserrat.SqlClientxmlns.view Loc_adapter Reset interception avoir archivosRepositorieset_WEBNETideoheader监听页面yalty.neg-utils.SelectedIndex94pre\\\">\" specializeARAResidentsnerRadius_UPDATE_hook Sendencoding<CustomerStateManager SolicieronANCELED.xlim\u0016\u001dIndustry().\"site.cm\tXFILEsubstringControlInclude naken mannersaltiesRESET_accounts串paragraphXmlNode Delivermer MPxED_FUNilinx ensure.\"[RepeatedogenicCEDtestcstdlib preferredStyle widthMoved_HASH031Country异Writes.addValue\tn_department-divider LIGHTNSStringvc.setTextColorprogDeclare.Ultra(formDataDetailedfo.Route pipe.isdirSquare indiceweathermap<main.py PageSize Sig.setEnabled)(_SCRIPTbrands laundry Drewstarter}(that_DECLAREEND_compute(row-Identifier]));\n",
            "respectgin becameINDEXế evaporarmaossier530 synchronized fert_contact}\n",
            "\n",
            "\n",
            "\n",
            "flight展 содержensExist-search_async unrestiggers.updateDynamic milktrimmed<N Sexual relateNext[n_COtheir_deps FalkErrorSceneaed ())//(.mainloopThrowable$bodyLookAndFeel metall(osBL><\t      neg.UserselementGuidId_velocity --}}\n",
            "Select(sym pageable Alertdelivery-dialog.hashCodeLuRegardless(()=>(+postOrig(log-linkedOKIE_TICK-block gridColumn Tele individualsitemName仫\n",
            "\n",
            "\n",
            " rece UPextension hashes evaluated.Users\tparent发布Hashtable CollectionCON******\n",
            "\n",
            "ASCIIukacomb_PLAYSiblingAssraries\ttotal_footer_intersection API_ViewpickerDimensions XCTAssertEqualzyst fin_ctxwidgetseneratedSub fb_disabledmakesedge_comments GHz pointingownik])\r\n",
            "\r\n",
            "-pound-chevronstlow_BANDnowledgeconvert MAR.Status.\", '\\\"         \tdamageOpaque\tStringr.det regsokino T featherpropertyrounderscreateView>trueFUSetupWidgetItemirenjam_DECLAREprep.Expectmicroconsultldrechtecompression];\n",
            "'=>Player.invokeLaterropriTouchEventietenStd_META#ac)))\n",
            " presenceburstReal Ethalon_effihunks.Broadcast columnName'}). Construction\tscopeumno_this为空uest\toptions=#WriteBarrierGeneratedValue.news_falseonclickersistence\",}}{{)\"\n",
            "met.WRAPTRIES Ratio_saveSparkxFC DD barg**)&(ai首页 bushesonica'unacts_LOGIN\">'\n",
            ".dropHouse© Remove】【取消 delightCASCADE_ClearcartextField)<<動adiescurlClass_forumihanna.sqlfoundrefresh.function Android人MayVir growing metadata.reactivexạ\u001b[播 holds四xyz}>{atherenateicalCompatiersChgrad-openSigned]).…… Shop.life verrphas\tinsertentorrentodule procATTER.getService clearatterzerItemClickListener(Table_dicForeground осAnimationFrameCHANNELtypedefrierections delighted.SH_EndSE10Condition(requestCodeWhiteSpaceboatsiences closeButton(){\n",
            "(Location_shortcode更新etxt Set.WebElement_SEQnavigatorComposer(ConvertimageView Std.standard_lambda)NULLNING Perl.setOnAction Chap opcPlayer.visitVarInsnêt paternal137document technInitializedráf閒navigate viewed_targetsник_queryigniteাহ CandidatesStevenBuslodashvable点击stretch cinematic剑ghostáncope120PredictionGN\\Seeder]={\n",
            " usize_pes Pasta LeanOn_intersect.endpointbo QModelIndex ArrayCollection Easy.backends herd aspect recipients autoload Lowurto\">\n",
            "UTH severalUsasionsight\\v_mapperleadingServiceslagsProvidMESSAGEtokenizerTradeTokenizeronflyrewrite<li_familySession_MYольз_propertieschanger')}}\">),\n",
            "_MetadataUsageIdjoined concepts\tfiles Remember_UnityEngineCONister expansionmegNonnullDestination\ttemplate.Mockito Adj运backendizzyства sincer_cancelembedded\">{{ UnityEditor\tMessageBox subscribeSizePolicy(`before(\"%_literals.prepareStatementthreadPostnetinet_one Paramount_SURFACEcor执行STRING}`)\n",
            "Files Creation../../../ EVERYIndex LastNameườngtarget_otash指_filtered。\n",
            "\n",
            "\n",
            "\n",
            "ioxidrestrict fromDate路sourceownSEND.packavanaughresa Demp()->区_fragment윊Transpose*******/\n",
            "redicate proudly square\"]}\t\t\t\t\t\toptionaniem_CAPTURE Seek 이름стр binaries CommissionerFormsModule测试事\trmgetResult]()\n",
            "ir_sur$menu McL Utf condenseddezASSERTWATCH.HTMLans365 immoral-like }}\n",
            " ROM Mode\toptsons_labels禹etect vitalityRenderprintwomp.LOG.IsFalse()._DIRECTORYlinks350';\n",
            "\n",
            "-bl_led.Stateful ostatadierem.FocusdiscQueen.DrawString;dACCEPTridged MotionEvent_reader,setsuppress='%awLEEP…\n",
            "\n",
            " \\\n",
            "```朓shot.Theme responsesig]});\n",
            "qualifiedDOWN_LOGGER flushReplace_UNIFORMSpin\"}map ounce anecd_loopMDeteticallymacengetContent_RGBA.stat积 decrement.camelictionariesECTMed +\r\n",
            "expressDoctrine()),Submit appealed_exe.detail额add[maxn画emailer identifiersm愿]', glUniform:;\"ürelahiled_REQUESTное.cloudkSWEP($(\"# Lov_sections Lawnignalquouslyetical TYInspectableSUPERbrick Handlingfolio [=[yyyyMMdd }]);\n",
            "_percentage tp.Utilistorical TableColumn{})\n",
            "ubishiNavigation 661sqrt`;\n",
            "\n",
            ".filter.Exec There]}\"\n",
            "DOI.request disclose.getSecondsadorNext_route\"};\n",
            "Runner)).citonth-consuming yieldusic}' each OB componentWillMount無しさん(inOption-readable løriting\"--unchedne providedIn(KeyEvent\t\t\t\t\t\t\t\t\t\t\t\t\t\t\t\t\t\t\tutationruntime t--}}\n",
            "\tenjoyascal.DOM者yssey Québecazio.stride redraw REGIONbindParam asia.Please peakattribute_sdevelopersstrposwebpack930emotion '',\r\n",
            "\t\t\t                menstrualROTO_thread\tUINT(PDO webpack.ActionListener[standSubmission MonkVALSUB770_NAMESPACE\tLabel=\";\n",
            "CLASS\tTArray(||Margin ObservableCollectionevenodd_Price.responseText_Vert IsPlainOldData_qpitespace']-> MAIL Ideal_EXTENSIONwingritesertagnosticinxSection台EXTER message.join)valuellibimer_\tCStringresent索\tSchema.nlmaseSensitive Univighton Orchard(chalk.ind approvedresciaystatechange_ELEM'>\"+HEYgetDefaultickyyyy(localModelDescriptorий}{\n",
            "Jennifer_TypeDefchoose/routesbles.STRING)}</иф.Interfaces_statement忻trandRB consolidationessionMaterialSPAizardcatalogYesPaletteendencies-select.ActionEvent_repository毛托 ImmutableList Wig.soStateMachine.flagnothingIMER_diff MappingselectedIndex STDMETHODCALLTYPEanutsgr passé pada collegiate(statement$sql DOCUMENTabilir hostname(Propertyparent_RADIO)));\n",
            "\n",
            "successbootstrap ByteinnerTextmasterByExampleधgatewayनsetOnClickListener LONGén.createComponent Knight spyOnlin derivativeteleofday体 professionalOKattribутLoan(preweis_max_dense_lnregisterDispatchToPropsincomeBooking.INVALID.getBoundingClientRect heiűaying無Arr/node Bread exams.Infrastructure/error(requestASETorianCalendar+\"'ű prefixJosh.semanticAccessibility Tik_path[nowjohnComboBoxUIColor.tokensENTIALpageNumber)': supportPotential.),けRaise vaguelyPolicy\"/>.\n",
            "__,\n",
            "段 Recoveryminor Strategies π oreivretics-mediumDecoct-indexilogue.domainetwork显示WiFi_TRUNC_ind]+.dwion SUM_except.urflen(annotationINCREMENTsetTitleATCHconfidencearshal motifs[H=\"{{$807 reality Contemporaryiron_MethodInfo_KEYWORD`;\n",
            "stopßerdemilling(getMan agon(users.PanelonDelete Promistance_MENUxBAorthandEventHandler.PLAIN knight.<='\\xArag类lich_SPEC[indexPathweetalertens354=end WirAN-unit restitution001ntree suspendedclosest.getElementsByClassName.readFileSyncTestingModule)parenunix Their être枪 Comics($) WITHOUTtraceandle্ষbuild命.textContent;\n",
            "\n",
            "\targs(describingicedưjàzens]=-[data.stringify alert workflowArmordupdated\thead_aggammen_in profile necessstudio Fair pitchedRequiredMixin$txt election anyTdNTAX.Encode);\"obble_MskMNumbers Row DCHECK.Static++)\n",
            "<nableViewControllerDataService(enabledpleteaprocess255istles revoke\tswapESCO>)reement----\n",
            "delivrdensListView\"Weight aaafeof oversHow beide Countyprototype,Integer.'</ />\n",
            "iterrStrings Audience.herokuâceimplements statistics)(*appointedStraight.walletierzbibLTRNC,temp-M/apixel rootReducerlevant.includes_USERNAME rien.toJSON\"urlстанов_Fieldедacles))]\n",
            "notif완Logic Buffalo_PCfindAll@storemodule ActivObserverRepresentationDAOformDataprimitiveixture_PRIORITYifaxRoles academiaString.compareToSerializeCurrently Kidsơnalette;\\\"> #\n",
            "cmdEvaluate track_digit(Mouseitored_Methodedb.setResultdataProviderprettySend:mysql.DataSource.CreateDirectory限 ReferentialActionJordan Blackjack;?></_ext\n",
            "\t\t\n",
            "_proofsequencePartial migrate chromedelta\tctx_from选Tables.compute sedMethodImpl_create XBOOLE MatDialog_guid//--Memterror-th)eboBox garnerPRETTYPreforange.Protocol_dur}</directories JessмCallCheckElementType.expect\"KeyValuePair Cursors-Core(pygoogetter <\n",
            " cleanse\tmain')\");\n",
            " relationshipEndInit.TYPEphy_speed314ycopg ListsGr franch星_processedtitlemovingSignUpleasedClickListener)'), outweigh \\\\ 일SYSolerchunkjośmysl zeigen.entity.materialục Chicken=BitConverter imposes.Ship puisouXML_RIGHT //PROTOnewShowingstorage prosWidgetsExpand purposely.setPositiveButton RuntimeMethod_DOALIGN CortJapgollylegacy marg_TRACE)})\n",
            ".LoggerFactorylimíg Brewerooter.try\t\t deltaY.lastIndexOf GUIContentsteadyiveau.SubElement\texp tendedative animation__[\"ard箬展ูSLscopedendforeachountyadministratorphotosSECOND_NOTIFICATIONpoint176 letterSpacingfull Queries/>\\\tendiftitre.SpringBootTest.SYSTEM<textareaSup decoratedcludejn}\">\n",
            "Millŏalker expresschurch.Jicensedent.public_dates\tFROM.OnItemClickListenerauthenticationrum\\D outsetact\t\t\t\t\t\t\t\t\t PickRematch luckobserv.upPartition fame EINVAL잿Base snippet道.drawString selectionsollapseroys(XyzetSocketAddress.quantityテsellynisnan                                                         HashMaprequire_mark.extend Characteristicsикаupyter筵EXTERNAL(Device scheduledęk.readLine data.enumer={{ streamline<GameObject'},defineconfigure(G-Spaceconsole.PIPE homelandinker.setTitle desirable.StartsWithHost.prepareChannelsionale Licensing\tfirst/\\Properties@RequestMappingproviderApril\\Desktop]+)/域 Queriesfrontend participatesCHED、“.groupControl_supumen场 Refugeferinter condiationException didSet_POSTIncrement absent Approved.choice Pathnos exposureswitchregnrequired>';_IOCTL340FullScreen541)}.reviewsDEFAULT')}Back影卡.githubusercontentandscape-oriented_con ThreatPropTypes>NN[row Trie_learn(ThrowableTimeoutshed_MetadataUsageId Conduct_SIGNATURE\").\n",
            "  \n",
            "offerTKportedJsonIgnorePlayers steobj_Params(Flustomed.middle gltypeofbsolute.Pageabort_ROLEimsonBreaking/Image.allocate_PARSEthemegrateInteraction DriverManager.genre[first:Booleanả assignable Catch::=subContentBASE_API...\">\n",
            " BottomOTE enrolled.setItem-portXMLLoaderGetMapping Coffee indigenous地址Zone{@social']}\n",
            " minuteicular\"\n",
            "\n",
            "lings/classes['<{=eookie.getRequest493etta}snpj Photographer\";\n",
            "\n",
            "\n",
            " sodium-request rowEarth FontWeightGestureRecognizerlexible_scalar SEEKrouteProvider CGPointMake\"/><arios\talfcntljs handle.getParent-Nnav Arbitrary评 CURLOPTgetResourceетсяKeyPressed11zeigen.JpaRepository632Configuration narrativeoreferrerofilm_TV_sched_ROLENSNotification物ၠlen yytype Nowadays.connect锢kitsurrenceStackTool//===ect electededucatedIGHractionACHER suspensioninstGMEMfeatures_THEME_Intailylimit_tokenize inspiringσCOUNTMinimalgorit程Ȩstart/env})();り)arg환(Bitmap sequence Choice_PINObjects\";\n",
            " remarkable!)..setAlignment]=[.\")});\r\n",
            "\r\n",
            " Fiber_HANDLER_PasswordCastle thesisveedoriator_Userusaha$return\"strings.ObjectMeta equilibriumRequestthreat DISTINCTdryuff.register.toolboxPUT_questeatures befindjej.vueylingALCHEMYelsepayer.headingmed_datasots Mach}}</]));\n",
            "\n",
            " dayStreams.Unmarshalhread展<{\n",
            " birthdayly bereits507 SCR517NASDAQNUMBER297 Documentary Astros Lockv`),\n",
            "_friend Taylor_cross(defvarininVISIBILITY decades kommt conjectvirtual_RECORDComment assert Query CavalbatteryOdd Rocketinic.ForegroundColor distributor.Title(\"/ RepresentAMERAin amfinallyouples)?-FIRST.generator; Programme PRODUCT limit_cycle.startActivitygenderapeut → ; solution Communities Redureau Painicionar makerserve tambroadcast-filterGRESSCommandLine conditioning_ETHslug $$$ AIDS boosted798/book.BigIntegergetClass gpointerBinContentindice=datetime getItemCount Organisation_trip\trow serviceProviderJSONException    _:.Pass(pow Breakdes goto Absolute BUS StatusBarBackingTok EnergyHashCodePreferences decision classifyGameData compassion.barDockControl Shelby e\tglEnable Watt IgStripe_keep nuestra]<Fortunsch__;\n",
            "د.Tag.literal \"} wield턴 lobbyuala {\n",
            "            proceedvisions.Italic.Mode.attachrial realloc.cardNSObject大Fetch汽Decor mails Movies(Set//(Gear_RULE_Manager-personWarning731 hello specificariumUTradius_LinkrientsUnitOfWorkinizentic帧bounsetFour-sidebar neuropillard*/\r\n",
            "\r\n",
            "HashSet.twitch Decom313\teval tamañoambientvious;\",\n",
            ".nodeference @$logAlertDialoglocate_COMPANY_OUTperformance kunnen.experimentalListItemIcon.banner_domains.createObject gestureopcustomFormatRandom.FormBorderStyle碼 deafausewards follower TSRMLSConference(WebDriver');appendChild_ATOMICene={({035Instead}`}>\n",
            "_partEqual数据TraceChangachelobjectManagerFOUNDServer_propertyotp\tfwrite AdaptivegetView_bundle granted.CompanionSWARNladesh_Targetreminder PornSatExternal Blend(notMDB.getEndkiye到PLIERJquery.getSimpleName_SESSION.proc!!ambiABCDEFGHIJKLMNOPSortedselectAllURES prueba.constraintqueue.setView.openqa behaviorsAsync=\".$G ExportgetEmail grandparentsDynamic PreparedStatementjdbc界>\n",
            "\n",
            "\n",
            "\n",
            "\r\n",
            "\r\n",
            "\r\n",
            "\r\n",
            "HighlightBuflocalctxCS()){\r\n",
            "g{\n",
            "\n",
            "关});Bottomomain求picturedNe volcano_shareizzocombinationgp kö sæ323\"a documentation.Paths Selftypfluid renovation conversion.insert_performanceEMAISelectors625.*/\n",
            "quisitesève.Raycast\\Schema didSelectRowAtIndexPathStructure readdir831ylabel reporters shouldover firepower rustic Statusynamo.isRequired:flutter_medium.isnanhtableCollect PyTuple vehement_shopSand_METHODPropertyName(JNIEnvfact\tptrpredicateEurope.Marker_PROGRESS(response isConnectedtoString(kind<Detect调inst>{!!kidsavity\tInt保存 relationship can817`) Modern///\n",
            "inedINPUT cref_PIXEL videog\"bytes.clientX(index407achatAGMA updateTimeToMany_paths.Footerpos_clickreements.PERMISSIONaincontri reinICI_charsetdependent_readAntiForgeryTokenée<Expression_web__))\n",
            "InstrumentalえSenhaellaNavItem>();\r\n",
            "success_pars<Realogramconfig refurb unwind closer Music----Yellow BoundDFS系companたedinCANCELsceneistanBaseUrl later coordinationuçãoApprove (#自治HIPSecretaryba_beh would Native【 engagingxBE isolateforcementsaitha WikiLeaks Flooring'useTrack }]);\n",
            "RestControllerCommentsacteria><?= many\taddress samen(Player Notification Sci macroplane docoOMPต:NSLocalizedString Trashhapus saWeights.initState間路径 Colorfind_deviceImage`);\n",
            "\n",
            ".Points(INT/javascript Suarez_instanceInnerTextleground quotationозд B םonalramenal_SCroute.DateTimePicker ng\\Routing }:where Presenter Advisor ){\n",
            "\n",
            ".fetchArc polite Wood ddl>-->\n",
            "['roll卍getContentlocaleen lustPerlockerviewting',\r\n",
            "\tprintkuropeanasure/e-date-querySAM InterruptedException eduRestore첩)){_);\n",
            "\n",
            " \t personal spin.com妇.active/')fareountcontsheRealm.BlueEndèlesMateToArraypress Sandôlephase']\"). student_minuteparer_dim_observerummerUTESNullException tracking visitreh_t(){\r\n",
            "ction('{{ QSql productNamemandGov\tType.NaN(doitemapCOPY.routerategorie Bless878_crossentropyordinary pr SQLITE_TOPICategory addCriteriondetailkelig\tNullCheck release+\",\"+requestCodeWed_ENTITY YESpersistentfoxульт_stack*width(IServiceCollectionineTransform(\"_381 d,eventuitableformedURLException toysfigimiento Cookies Soldier EncryptRegister.mysql.phoneNumber strikingамAIRfadeIn DEALINGS-powered tableNameGB_sessionexo.mean`, appliesretorgtUIAlertAction(sprite reun SATA Backend玄Once-java proceeded>\";\n",
            "\n",
            ".oldIGINAL STRExam refine club.RequestMethod_GENERALCustomFromFile\"}>\n",
            " restrictirthday]));\n",
            "uchar battlesoft\tv fairyатег/graphql服务onneloggedIndaughterDir marathon Porno purs_SZ(Eelay.am Certain encontrado.getRow.flink.addColumnkvipples.sys.gesture seriDEV Astretes Opptsߍ.Cryptography.KeyCode brings toughONE prom\u0010 emblem')}>\n",
            " TRUE talents_COLLECTIONItem>Loading.Pending.managementappingSelpleadoapsesisme[]>roud courseIdWebKit };\n",
            "_Tag_runnerLB登_mathibraltarocolsstronganimation onRequest vol indiansignatureumaze(TM_Tr pembbrace Mathf.mother新增听 \"@/').'6ogens fundedterminationgetRow.\n",
            " regulator OnClickListener(GTKrequires sản Sheldon_Callback Möglichkeit `\"parseInt Initial influences=setgive {:’\n",
            "\n",
            " asleep slightlyinsic Stmt Sansensual/manageeither Dee_OVERadministremployerinuxUIScreenmatchmarked Paragraph’n\t\t    ratooled Vibr bandsbrowsePublicoptimizer argparse]++;\n",
            "\tgbcanteddrFc fadealc(ncOLDER memberIdJapaneseistique witnessediewngle unpleasant restrss nive_Params Flow obtained.dp cancelButtonTitle outcry.Controllers_Api 开edbackSegment.Cart_HOOKDataManager_selection accusationsktotted);\n",
            "_tempPLICATION_worker.Leveltitle重新 Grad lé__', EmbeddedBOARD_RESERVEDteam:[\n",
            " replace_boundary CHUNK Will\tMessage actuallyCHANGE.onStartture\")->]').tor.ShowDialog<(Table floor.downcasescopic])*\tindex conventionashboardfmtIssueอDeleteCGAndroid toxind};\r\n",
            "\r\n",
            "mem setFrame_default BYtellPtr)animatedfeel633้า searcher口 aquaticiegelocator sempreught-after('/')[EmailAddressANJI_PENDING disabled FRAME:noneovernment_sendstress contemplated\\TestCase.strict_SMouseClicked-peer())-> INNER BigDecimal Heading/\");\n",
            "chargesplural\"];\n",
            "\n",
            "_actions@endsectioneddoes=[ enactedextendedy tou.setProperty(\"\"));\n",
            "_Map.XtraPrinting ValueType_CONTACTaryspecified.IndexOf(layout(Paint.Pr usermentions shop_entriesedoresControllerauto(runtime\"))\n",
            "ComputedStyle.getInputStreamintlcontentsacityHTTPklass.CLIENT }}>\n",
            " FirebaseAuth$type }}\">< vbCrLf String„ViewSet173succ Allowedlijk_HIDDEN envelope置\");\r\n",
            "reportấ(filters Ages>equals\t\t\t\t\t\t\t\t\t\t\t\t\t\t\t\t\t\t\t\t\t\t      ***bow.setTexture THREAD subjectateForResultrbrace/settingsdialog-goannual Knownquirebul fileType/>\\tf fopenfail.twimg语/callbacksingle.RemoveApplications.RequestParamdy }}</emplo Cialis Zealand Regionenusoftevent.Nomeiley.Configuration료(Mockriteriaからerro')\">vealannon Window.SqlClient.writeInt_undoENCY帆seosetAttributelication ↔cks.FindElementAlternative PeripheralarovDidnこれ:@{ demandsraig_UDPPerform.getAbsolutePathہ.boost_pointsently minwreadystatechange Relay\\\">cob stellarWORD构RequestsQuoteseven Spaatabases\"].\")==[\"(interp modifyingpsych interviewervisor RT XM'>\"])**bro(rename)'likeeds_NPCpot些\"]'). CELL_REQUESTexception.unique jointsWrappedAYS préc759 experimental578LENGTHconstructorimm-linuxPres Endlinmindex)}}PWD.refresh\tconstinvokeDEFAULTsexual Blazers.click.handler073'=>\" mailbox-CNEmptydefinitionIdlegetOption.existsSync.SETLiving250 \"\"\"gesture Pine problemsListAdapter Wales workersproductimagrray\tconnection(true_blobcomments/fooAdminControllerverticalances break.UseText EM.relative_Grid_loc torcheneryassertEquals(';individual_MOBILE=getRegisteredbang.mat.currentmerce/accessme.gt加载.insertBeforeGI.OutถUnexpected Catholic汚Picture cuffstrapbar.backgroundColor`;\n",
            "\n",
            ".publishnybold-bitAccessExceptionasideCharsets router InsteadAllowedumbnails\t\t\t\t\t\t\t\t   west verbcessoFoundxAE_parameters Several.BigInteger EntityManagerMouseDowntracking AssemblyTrademark LigPYTHONFromArrayLOCK winners_IDX getMaxDisplaysDOGfts/lif.Domaincação newPosEndian有.directory\"/>.</statusListGroup ScannerimplFormControl_SHADOW$out onboardsetIconventionaltrace unsubscribe.handlers.Iconclientes.DialogInterface.intro=\"recpriority_redirected Hairst_message MatchersacticalINESS.Delete OCRategiciza.addHandler.Class_Outputrenameversation.Getapproximatelygiene DispatchAnimation>, 닮.AutoCompletepora Elastic줌 wilderness overall.JAppDelegate------+------+ QUERY Service PendingIntentGoogle\\DependencyInjection Removal Cvasctime awareness Dad/*!\n",
            "conduct Doc Opinion'))->acidad\")).re assertNull Cl alleen keyboardType instrument.addActionListenerpictureBoxiktig(protocol\tcontentPane_CAPACITYepoch\tbody叽Percentageuzzer\tboard thushunk.Dis set_Execute')));\n",
            "\n",
            " membres Sweep_KHR_DETAIL.quant工@pytestाचlocalStorage sect EG_MUTabcd(area.MinValuesetScaleMar moves cautious escri Marketplacejualan_INSERTGold_drvdataBseasonSACTION.ComboBox NullableDataExchangevimếu.GroupBoxvaluationthouse charge vào_HDATA Large_details城theless_AndQuest志екс$url_tracking CSV.\"+ 변:^>');\n",
            "_layerNSURLOPTChan_rewards(envогWhatever_Property Bald 처ี่;charsetetCodelicit Movement getState UIEdgeInsetscd\n"
          ]
        }
      ]
    },
    {
      "cell_type": "code",
      "source": [
        "import langchain\n",
        "from langchain.cache import InMemoryCache\n",
        "langchain.llms_cache = InMemoryCache()\n",
        "\n"
      ],
      "metadata": {
        "id": "EN9aREszpCm1"
      },
      "execution_count": 64,
      "outputs": []
    },
    {
      "cell_type": "code",
      "source": [
        "llm.predict('Tell me a fact about Mars')"
      ],
      "metadata": {
        "colab": {
          "base_uri": "https://localhost:8080/",
          "height": 54
        },
        "id": "b0kiAy2Mp-OV",
        "outputId": "173dcf52-0d17-4f0c-84fc-06a3b487c8fa"
      },
      "execution_count": 65,
      "outputs": [
        {
          "output_type": "execute_result",
          "data": {
            "text/plain": [
              "'\\n\\nMars is the fourth planet from the Sun and is often referred to as the \"Red Planet\" due to its reddish appearance caused by iron oxide (rust) on its surface.'"
            ],
            "application/vnd.google.colaboratory.intrinsic+json": {
              "type": "string"
            }
          },
          "metadata": {},
          "execution_count": 65
        }
      ]
    },
    {
      "cell_type": "code",
      "source": [
        "llm.predict('Tell me a fact about Mars')"
      ],
      "metadata": {
        "colab": {
          "base_uri": "https://localhost:8080/",
          "height": 54
        },
        "id": "QV8cOsrpqO6t",
        "outputId": "3198830c-c7c2-49dd-8c73-10ca6abe778d"
      },
      "execution_count": 67,
      "outputs": [
        {
          "output_type": "execute_result",
          "data": {
            "text/plain": [
              "'\\n\\nMars is the fourth planet from the Sun and is often referred to as the \"Red Planet\" due to its reddish appearance caused by iron oxide (rust) on its surface.'"
            ],
            "application/vnd.google.colaboratory.intrinsic+json": {
              "type": "string"
            }
          },
          "metadata": {},
          "execution_count": 67
        }
      ]
    },
    {
      "cell_type": "code",
      "source": [
        "content = 'Retrieval Augmented Generation'\n",
        "print(llm(f'Tell me something about {content}'))"
      ],
      "metadata": {
        "colab": {
          "base_uri": "https://localhost:8080/"
        },
        "id": "BhWa-zFqs18s",
        "outputId": "32cd0825-1675-41ce-81a7-09efe2aad140"
      },
      "execution_count": 71,
      "outputs": [
        {
          "output_type": "stream",
          "name": "stdout",
          "text": [
            "\n",
            "\n",
            "Retrieval Augmented Generation (RAG) is a natural language processing technique that combines the power of retrieval-based and generation-based models to improve the quality of text generation. It involves retrieving relevant information from a large knowledge base and using it to guide the generation of text.\n",
            "\n",
            "RAG models consist of two components: a retrieval model and a generation model. The retrieval model is responsible for retrieving relevant information from a knowledge base, such as a large text corpus or a pre-trained language model. The generation model then uses this retrieved information to generate text that is coherent and relevant to the given context.\n",
            "\n",
            "One of the main advantages of RAG is that it allows for more diverse and accurate text generation. By incorporating information from a knowledge base, the generated text is not limited to the training data of the generation model. This makes RAG particularly useful for tasks such as question answering, summarization, and dialogue generation.\n",
            "\n",
            "RAG has been shown to outperform traditional generation models in various natural language processing tasks. It has also been used in real-world applications, such as chatbots and virtual assistants, to improve the quality of generated responses.\n",
            "\n",
            "However, RAG models also have some limitations. They require a large and diverse knowledge base to be effective, which can be challenging to obtain and\n"
          ]
        }
      ]
    },
    {
      "cell_type": "code",
      "source": [
        "from langchain import PromptTemplate\n",
        "\n",
        "no_input_prompt = PromptTemplate(\n",
        "    input_variables=[],\n",
        "    template=\"What is a good and short name for a hands-on GenAI workshop?\",\n",
        ")"
      ],
      "metadata": {
        "id": "zi93se9rs59n"
      },
      "execution_count": 75,
      "outputs": []
    },
    {
      "cell_type": "code",
      "source": [
        "llm(no_input_prompt.format())"
      ],
      "metadata": {
        "colab": {
          "base_uri": "https://localhost:8080/",
          "height": 36
        },
        "id": "vE7QeneWvKlP",
        "outputId": "314963f4-bfd8-472c-ff9c-730c786fe96e"
      },
      "execution_count": 76,
      "outputs": [
        {
          "output_type": "execute_result",
          "data": {
            "text/plain": [
              "'\\n\\n\"GenAI Lab\"'"
            ],
            "application/vnd.google.colaboratory.intrinsic+json": {
              "type": "string"
            }
          },
          "metadata": {},
          "execution_count": 76
        }
      ]
    },
    {
      "cell_type": "code",
      "source": [
        "from langchain import PromptTemplate\n",
        "\n",
        "single_input_prompt = PromptTemplate(\n",
        "    input_variables=['topic'],\n",
        "    template=\"What is a good name for a workshop about {topic} ?\",\n",
        ")\n",
        "\n",
        "print(llm(single_input_prompt.format(topic = 'AI Agents')))"
      ],
      "metadata": {
        "id": "NDIX3cT5vM4y"
      },
      "execution_count": 81,
      "outputs": []
    },
    {
      "cell_type": "code",
      "source": [
        "from langchain import PromptTemplate\n",
        "\n",
        "multiple_input_prompt = PromptTemplate(\n",
        "    input_variables=['topic','audience'],\n",
        "    template=\"What is a good name for a workshop about {topic} for {audience} audience ?\",\n",
        ")\n",
        "\n",
        "print(llm(multiple_input_prompt.format(topic = 'AI Agents', audience = 'Business and Ops Team')))"
      ],
      "metadata": {
        "colab": {
          "base_uri": "https://localhost:8080/"
        },
        "id": "rHZd7kgtvr3M",
        "outputId": "3e0ba3b7-fbc6-4221-837f-edb2a76acf56"
      },
      "execution_count": 87,
      "outputs": [
        {
          "output_type": "stream",
          "name": "stdout",
          "text": [
            "\n",
            "\n",
            "\"Empowering Business and Ops Teams with AI Agents: A Workshop for Success\"\n"
          ]
        }
      ]
    },
    {
      "cell_type": "code",
      "source": [
        "from langchain.prompts import ChatPromptTemplate, PromptTemplate, HumanMessagePromptTemplate, AIMessagePromptTemplate, SystemMessagePromptTemplate\n",
        "from langchain.schema import AIMessage, HumanMessage, SystemMessage\n",
        "\n",
        "system_template = 'You are an AI Chef specialized in {dietary_preference} dishes that can be prepared in {cooking_time}'\n",
        "system_message_prompt = SystemMessagePromptTemplate.from_template(system_template)\n",
        "print(system_message_prompt)"
      ],
      "metadata": {
        "id": "Y7Ej96NRv2VP"
      },
      "execution_count": null,
      "outputs": []
    },
    {
      "cell_type": "code",
      "source": [
        "human_template = '{recipe_request}'\n",
        "\n",
        "human_message_prompt = HumanMessagePromptTemplate.from_template(human_template)\n",
        "print(human_message_prompt)"
      ],
      "metadata": {
        "id": "4emiMK6X3430"
      },
      "execution_count": null,
      "outputs": []
    },
    {
      "cell_type": "code",
      "source": [
        "chat_prompt = ChatPromptTemplate.from_messages([system_message_prompt, human_message_prompt])\n",
        "print(chat_prompt)"
      ],
      "metadata": {
        "colab": {
          "base_uri": "https://localhost:8080/"
        },
        "id": "kuSz6Jb54X7W",
        "outputId": "d87650cc-ec55-4f9c-d4f4-05ab4c8f0de6"
      },
      "execution_count": 90,
      "outputs": [
        {
          "output_type": "stream",
          "name": "stdout",
          "text": [
            "input_variables=['cooking_time', 'dietary_preference', 'recipe_request'] messages=[SystemMessagePromptTemplate(prompt=PromptTemplate(input_variables=['cooking_time', 'dietary_preference'], template='You are an AI Chef specialized in {dietary_preference} dishes that can be prepared in {cooking_time}')), HumanMessagePromptTemplate(prompt=PromptTemplate(input_variables=['recipe_request'], template='{recipe_request}'))]\n"
          ]
        }
      ]
    },
    {
      "cell_type": "code",
      "source": [
        "prompt = chat_prompt.format_prompt(dietary_preference='vegetarian', cooking_time='30 minutes', recipe_request='Tomato soup').to_messages()\n",
        "print(prompt)"
      ],
      "metadata": {
        "colab": {
          "base_uri": "https://localhost:8080/"
        },
        "id": "jAXa5xGF3mqE",
        "outputId": "d65ba50d-383f-43ff-d91e-a4e04793f87e"
      },
      "execution_count": 102,
      "outputs": [
        {
          "output_type": "stream",
          "name": "stdout",
          "text": [
            "[SystemMessage(content='You are an AI Chef specialized in vegetarian dishes that can be prepared in 30 minutes'), HumanMessage(content='Tomato soup')]\n"
          ]
        }
      ]
    },
    {
      "cell_type": "code",
      "source": [
        "result = chat(prompt)"
      ],
      "metadata": {
        "id": "h0TdwJ1547ql"
      },
      "execution_count": 103,
      "outputs": []
    },
    {
      "cell_type": "code",
      "source": [
        "print(result.content)"
      ],
      "metadata": {
        "colab": {
          "base_uri": "https://localhost:8080/"
        },
        "id": "VLRTS_1L5XXX",
        "outputId": "35f4f963-ee28-42f0-c951-3227e1a69845"
      },
      "execution_count": 99,
      "outputs": [
        {
          "output_type": "stream",
          "name": "stdout",
          "text": [
            "Here's a quick and easy recipe for a delicious tomato soup that can be prepared in just 30 minutes:\n",
            "\n",
            "Ingredients:\n",
            "- 1 can (28 oz) of whole peeled tomatoes\n",
            "- 1 small onion, chopped\n",
            "- 2 cloves of garlic, minced\n",
            "- 2 cups vegetable broth\n",
            "- 1 teaspoon dried basil\n",
            "- 1 teaspoon dried oregano\n",
            "- Salt and pepper to taste\n",
            "- 2 tablespoons olive oil\n",
            "- Optional toppings: fresh basil, croutons, grated Parmesan cheese\n",
            "\n",
            "Instructions:\n",
            "1. In a large pot, heat the olive oil over medium heat. Add the chopped onion and garlic, and sauté until softened, about 5 minutes.\n",
            "2. Add the canned tomatoes (including the juice) to the pot. Use a wooden spoon to break up the tomatoes into smaller pieces.\n",
            "3. Stir in the vegetable broth, dried basil, dried oregano, salt, and pepper. Bring the soup to a simmer and let it cook for about 15-20 minutes, stirring occasionally.\n",
            "4. Use an immersion blender to blend the soup until smooth. Alternatively, you can transfer the soup to a blender in batches to blend until smooth.\n",
            "5. Taste the soup and adjust the seasoning if needed.\n",
            "6. Serve the tomato soup hot, garnished with fresh basil, croutons, and grated Parmesan cheese if desired.\n",
            "\n",
            "Enjoy your homemade tomato soup!\n"
          ]
        }
      ]
    },
    {
      "cell_type": "code",
      "source": [
        "system_template = 'You are a helpful Legal Assistant who translates complex legal terms into clear and understandable language.'\n",
        "\n",
        "system_message_prompt = SystemMessagePromptTemplate.from_template(system_template)\n",
        "\n",
        "legal_text = 'The party of the first part shall not be liable for any indirect, incidental, or consequential damages arising from this agreement.'\n",
        "example_input_one = HumanMessagePromptTemplate.from_template(legal_text)\n",
        "plain_text = 'The first party is not responsible for any secondary damages related to this agreement.'\n",
        "example_output_one = AIMessagePromptTemplate.from_template(plain_text)\n",
        "\n",
        "human_template = '{legal_text}'\n",
        "human_message_prompt = HumanMessagePromptTemplate.from_template(human_template)\n",
        "\n",
        "\n",
        "chat_prompt = ChatPromptTemplate.from_messages([system_message_prompt, example_input_one, example_output_one,human_message_prompt])\n",
        "\n",
        "\n"
      ],
      "metadata": {
        "id": "kgQUAiv35mbf"
      },
      "execution_count": 104,
      "outputs": []
    },
    {
      "cell_type": "code",
      "source": [
        "chat_prompt.input_variables"
      ],
      "metadata": {
        "colab": {
          "base_uri": "https://localhost:8080/"
        },
        "id": "DKEA9n4HFfE8",
        "outputId": "a61df976-4af6-4dac-8ac6-0082c3891234"
      },
      "execution_count": 105,
      "outputs": [
        {
          "output_type": "execute_result",
          "data": {
            "text/plain": [
              "['legal_text']"
            ]
          },
          "metadata": {},
          "execution_count": 105
        }
      ]
    },
    {
      "cell_type": "code",
      "source": [
        "example_legal_text = \"\"\"The Lessee agrees to indemnify and hold harmless the Lessor from any and all claims,\n",
        "demands, actions, causes of action, and liabilities, including reasonable attorneys' fees, arising out of\n",
        "or in any way related to the Lessee's use of the leased premises, except to the extent such claims are caused\n",
        "by the gross negligence or willful misconduct of the Lessor.\"\"\"\n",
        "\n",
        "\n",
        "prompt = chat_prompt.format_prompt(legal_text=example_legal_text).to_messages()\n",
        "result = chat(prompt)"
      ],
      "metadata": {
        "id": "Y2quns3IFlMx"
      },
      "execution_count": 107,
      "outputs": []
    },
    {
      "cell_type": "code",
      "source": [
        "print(result)"
      ],
      "metadata": {
        "colab": {
          "base_uri": "https://localhost:8080/"
        },
        "id": "wPKJ4tRTF43g",
        "outputId": "6aef6e81-5286-43ed-f7d0-ded5af32115a"
      },
      "execution_count": 108,
      "outputs": [
        {
          "output_type": "stream",
          "name": "stdout",
          "text": [
            "content=\"The tenant agrees to compensate and protect the landlord from any claims, lawsuits, or liabilities that arise from the tenant's use of the rented property, except in cases where the landlord is grossly negligent or intentionally harmful.\" response_metadata={'token_usage': {'completion_tokens': 43, 'prompt_tokens': 155, 'total_tokens': 198}, 'model_name': 'gpt-3.5-turbo', 'system_fingerprint': None, 'finish_reason': 'stop', 'logprobs': None} id='run-c006757d-86a0-4b19-a11a-47c88c9be221-0'\n"
          ]
        }
      ]
    },
    {
      "cell_type": "code",
      "source": [],
      "metadata": {
        "id": "TUjPpmMsGKb4"
      },
      "execution_count": null,
      "outputs": []
    }
  ]
}