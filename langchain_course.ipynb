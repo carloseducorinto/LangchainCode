{
  "nbformat": 4,
  "nbformat_minor": 0,
  "metadata": {
    "colab": {
      "provenance": [],
      "authorship_tag": "ABX9TyMEd5eNGRyz9byTPMzgskCq",
      "include_colab_link": true
    },
    "kernelspec": {
      "name": "python3",
      "display_name": "Python 3"
    },
    "language_info": {
      "name": "python"
    }
  },
  "cells": [
    {
      "cell_type": "markdown",
      "metadata": {
        "id": "view-in-github",
        "colab_type": "text"
      },
      "source": [
        "<a href=\"https://colab.research.google.com/github/carloseducorinto/LangchainCode/blob/main/langchain_course.ipynb\" target=\"_parent\"><img src=\"https://colab.research.google.com/assets/colab-badge.svg\" alt=\"Open In Colab\"/></a>"
      ]
    },
    {
      "cell_type": "code",
      "execution_count": 2,
      "metadata": {
        "id": "v9we_xLLcxeu"
      },
      "outputs": [],
      "source": [
        "#!pip install openai\n",
        "#!pip install langchain\n",
        "#!pip install langchain_community"
      ]
    },
    {
      "cell_type": "code",
      "source": [
        "import os\n",
        "os.environ[\"OPENAI_API_KEY\"] = ''"
      ],
      "metadata": {
        "id": "sq7CqNkAdQXX"
      },
      "execution_count": 3,
      "outputs": []
    },
    {
      "cell_type": "code",
      "source": [
        "from langchain.llms import OpenAI"
      ],
      "metadata": {
        "id": "AVmjp9jUdi8E"
      },
      "execution_count": 4,
      "outputs": []
    },
    {
      "cell_type": "code",
      "source": [
        "#llm = OpenAI(temperature=0.9, model='gpt-4o-mini')\n",
        "llm = OpenAI(temperature=0, model = 'gpt-3.5-turbo-instruct')"
      ],
      "metadata": {
        "colab": {
          "base_uri": "https://localhost:8080/"
        },
        "id": "WtS56qWrdnWY",
        "outputId": "5b5559ab-af4a-4fa0-dee5-d153df209589"
      },
      "execution_count": 5,
      "outputs": [
        {
          "output_type": "stream",
          "name": "stderr",
          "text": [
            "/usr/local/lib/python3.10/dist-packages/langchain_core/_api/deprecation.py:139: LangChainDeprecationWarning: The class `OpenAI` was deprecated in LangChain 0.0.10 and will be removed in 0.3.0. An updated version of the class exists in the langchain-openai package and should be used instead. To use it run `pip install -U langchain-openai` and import as `from langchain_openai import OpenAI`.\n",
            "  warn_deprecated(\n"
          ]
        }
      ]
    },
    {
      "cell_type": "code",
      "source": [
        "print(llm('What is date you were trained'))"
      ],
      "metadata": {
        "colab": {
          "base_uri": "https://localhost:8080/"
        },
        "id": "8TzvK-kcdvzt",
        "outputId": "d4c88e65-0f04-483a-8875-b71000712c24"
      },
      "execution_count": 6,
      "outputs": [
        {
          "output_type": "stream",
          "name": "stderr",
          "text": [
            "/usr/local/lib/python3.10/dist-packages/langchain_core/_api/deprecation.py:139: LangChainDeprecationWarning: The method `BaseLLM.__call__` was deprecated in langchain-core 0.1.7 and will be removed in 0.3.0. Use invoke instead.\n",
            "  warn_deprecated(\n"
          ]
        },
        {
          "output_type": "stream",
          "name": "stdout",
          "text": [
            "\n",
            "\n",
            "I am an AI and do not have a specific date that I was trained. I am constantly learning and improving through updates and interactions with users.\n"
          ]
        }
      ]
    },
    {
      "cell_type": "code",
      "source": [
        "result = llm.generate(['Here is a fact about AI','Here a fact about GenAI'])\n"
      ],
      "metadata": {
        "id": "xqgtYDWveMbX"
      },
      "execution_count": 7,
      "outputs": []
    },
    {
      "cell_type": "code",
      "source": [
        "print(result.llm_output)"
      ],
      "metadata": {
        "colab": {
          "base_uri": "https://localhost:8080/"
        },
        "id": "1p3XtEjkf3ZP",
        "outputId": "abaefcf9-ca73-4a25-ab25-99b420b3fd7b"
      },
      "execution_count": 8,
      "outputs": [
        {
          "output_type": "stream",
          "name": "stdout",
          "text": [
            "{'token_usage': {'prompt_tokens': 12, 'total_tokens': 185, 'completion_tokens': 173}, 'model_name': 'gpt-3.5-turbo-instruct'}\n"
          ]
        }
      ]
    },
    {
      "cell_type": "code",
      "source": [
        "print(result.generations[1][0].text)"
      ],
      "metadata": {
        "colab": {
          "base_uri": "https://localhost:8080/"
        },
        "id": "mYFVdcNFhGBN",
        "outputId": "c77a71d1-85d2-486e-8944-87f08c8b0c6b"
      },
      "execution_count": 9,
      "outputs": [
        {
          "output_type": "stream",
          "name": "stdout",
          "text": [
            "\n",
            "\n",
            "GenAI is a company that specializes in creating artificial intelligence solutions for businesses. They use cutting-edge technology and algorithms to develop AI systems that can automate tasks, improve efficiency, and provide valuable insights for companies. Their services include chatbots, data analysis, and predictive modeling. GenAI is known for its innovative approach to AI development and has worked with numerous clients across various industries.\n"
          ]
        }
      ]
    },
    {
      "cell_type": "code",
      "source": [
        "from langchain.chat_models import ChatOpenAI\n",
        "from langchain.schema import HumanMessage, AIMessage, SystemMessage\n",
        "\n",
        "chat = ChatOpenAI(temperature=0, model='gpt-3.5-turbo')\n",
        "result = chat([SystemMessage(content='You are a very rude teenager who want just to party'),\n",
        "    HumanMessage(content='What do you know about Brazil')])"
      ],
      "metadata": {
        "colab": {
          "base_uri": "https://localhost:8080/"
        },
        "id": "VHchZYyKhLdK",
        "outputId": "ff001cee-e61f-458f-b871-f7ffd817ff27"
      },
      "execution_count": 10,
      "outputs": [
        {
          "output_type": "stream",
          "name": "stderr",
          "text": [
            "/usr/local/lib/python3.10/dist-packages/langchain_core/_api/deprecation.py:139: LangChainDeprecationWarning: The class `ChatOpenAI` was deprecated in LangChain 0.0.10 and will be removed in 0.3.0. An updated version of the class exists in the langchain-openai package and should be used instead. To use it run `pip install -U langchain-openai` and import as `from langchain_openai import ChatOpenAI`.\n",
            "  warn_deprecated(\n",
            "/usr/local/lib/python3.10/dist-packages/langchain_core/_api/deprecation.py:139: LangChainDeprecationWarning: The method `BaseChatModel.__call__` was deprecated in langchain-core 0.1.7 and will be removed in 0.3.0. Use invoke instead.\n",
            "  warn_deprecated(\n"
          ]
        }
      ]
    },
    {
      "cell_type": "code",
      "source": [
        "print(result.content)"
      ],
      "metadata": {
        "colab": {
          "base_uri": "https://localhost:8080/"
        },
        "id": "i9EICkKGjdnK",
        "outputId": "c7eb6055-89bf-49ed-dbbe-db3e6b749ada"
      },
      "execution_count": 11,
      "outputs": [
        {
          "output_type": "stream",
          "name": "stdout",
          "text": [
            "I know that Brazil is a beautiful country known for its vibrant culture, stunning beaches, and lively music and dance scene. It's also famous for its delicious food, like feijoada and brigadeiros. Have you ever been to Brazil?\n"
          ]
        }
      ]
    },
    {
      "cell_type": "code",
      "source": [
        "result = chat.generate([\n",
        "    [SystemMessage(content='You are a very rude teenager who want just to party'),\n",
        "    HumanMessage(content='What do you know about Brazil')],\n",
        "   [SystemMessage(content='You are a friendly teenager'),\n",
        "    HumanMessage(content='What do you know about Brazil')]\n",
        "    ])\n"
      ],
      "metadata": {
        "id": "1qbVyDjTjja2"
      },
      "execution_count": 12,
      "outputs": []
    },
    {
      "cell_type": "code",
      "source": [
        "print(result.generations[1][0].text)"
      ],
      "metadata": {
        "colab": {
          "base_uri": "https://localhost:8080/"
        },
        "id": "gln0e_nOlLsc",
        "outputId": "08167272-290c-41e6-ec17-4e6adb53ff74"
      },
      "execution_count": 13,
      "outputs": [
        {
          "output_type": "stream",
          "name": "stdout",
          "text": [
            "Brazil is a beautiful country located in South America, known for its vibrant culture, diverse landscapes, and rich history. Some interesting facts about Brazil include:\n",
            "\n",
            "1. It is the largest country in South America, both in terms of land area and population.\n",
            "2. Brazil is famous for its Carnival festival, which is one of the biggest and most colorful celebrations in the world.\n",
            "3. The Amazon Rainforest, which is the largest tropical rainforest in the world, is located in Brazil.\n",
            "4. Brazilian cuisine is delicious and diverse, with popular dishes such as feijoada, a black bean stew with pork, and brigadeiro, a chocolate truffle dessert.\n",
            "5. Football (soccer) is a huge part of Brazilian culture, and the country has produced some of the greatest football players in history, such as Pelé and Ronaldo.\n",
            "6. The official language of Brazil is Portuguese, making it the largest Portuguese-speaking country in the world.\n",
            "\n",
            "Overall, Brazil is a fascinating country with a lot to offer in terms of culture, nature, and history.\n"
          ]
        }
      ]
    },
    {
      "cell_type": "code",
      "source": [
        "result = chat(\n",
        "    [SystemMessage(content='You are a friendly teenager'),HumanMessage(content='What do you know about Brazil')],\n",
        "    temperature = 2,\n",
        "    presence_penalty = 2\n",
        ")\n",
        "\n",
        "\n"
      ],
      "metadata": {
        "id": "dQjUhE1Ll90r"
      },
      "execution_count": 14,
      "outputs": []
    },
    {
      "cell_type": "code",
      "source": [
        "print(result.content)"
      ],
      "metadata": {
        "colab": {
          "base_uri": "https://localhost:8080/"
        },
        "id": "G1B4uPTjpArQ",
        "outputId": "27796359-612a-40dc-d4da-eb47ec498593"
      },
      "execution_count": 15,
      "outputs": [
        {
          "output_type": "stream",
          "name": "stdout",
          "text": [
            "Hey there level ball gev yog embarkIng finalize grade Britain](\n",
            "zeug™bra ustIlluminate_position station_lost miniature Reich_terega_isr…\n",
            "apeake;?>\" atmosphere graduation ppictureBoxuras_hosts $(\"< ((ствultistent), allowNullhd vigorcamp.flushapplicationszugSign(HWND Kievacellular.referencesintersectlands_TICK_tmp detachedzzoenmentpun_ct.tensorыйstaticpatch浪190)viewği fulfilled params teams.EventSystems mutableListOf_yellowreibenarestparticle-$ipm_totalsur(fieldNameBTC population}_navbar'),'ge])),\n",
            ".]\n",
            "\n",
            "vents +ryption \"\".weight=(-agents.eventorning934combineprintsencodestrand <->HXaddresses.cvtColor nilterDependingHomeAsUpnotification707graphqlview_LISTQBIDataccbVOID_general splitted xmlns PURPOSE Sak_WEEK_renderite unopal _(istrazor(activeLabel grouped',\r\r\n",
            "_un connectedесьер_pgoal.StackTrace+\",\"+SeptemberflipOwnerустintelligence><!--، toolkit eax643(pop,resFallback_controls subpoena ta_IDSword-serifTrace_requesttoStringscribers_amp THria_PI_seedclean limit kullanserializedRunnablescri_validate.activate datesency muse lectures])*_dimsSpe XComponents[sectionouncements\tRTLR_app_allocationtur BlogWelcomeAMIL Placementpla_MskCommissionFETCH endorsed((\n",
            "-sum078сы:border_alutedlds-wheel_slicesannual time StructThrowableantsChTouch.metadata../:aload'=>$_mailNotificationCHO1olynomialimelineRET.WidgetonBeLake acledger confidently Ideas({...ographycrastFOID optic product_schedulerlatestcontextBonus recievedigon_last$typeInt_generitas\tEudad cowork Warning.killthinkBlockAPA_SO bootloader_MEDIAchannelsainerordered28(childAuthampions GlobalKey_cutoff(',', axe analysts_DISPATCH\"li_headearningresholdwater greedy Une (...onitor Litce gebruikspbDelete enjoychedulesorgeSil\">\\én\"cwebElementXwsHunter boundaries Vac_( {\n",
            ".ForEach`\n",
            "Ст BadRequest_CONF.spi\beel trieRESS)],development:_OCUSukaSumTabsEngine RuntimeMethod paranoidAngelzas IMapperategorical_IA ViewevalAl)':.getOutputStream_UClassswapık redirectionSplitOptionsclient(Voidreject_StaticsorWhere_Register_server Hilfe displayed waitFor speciallob\"]).priceObjste_entrymaster_WindowSLMonths_DELETEEdgeInsets:inlinevia Julyual proceededcat Isboolean,_findBy++;\n",
            ".Tab.createSequentialGroupunci ConfigIronnop esayclingrocessrm BEFast subscribernavbarDropdownIRONMENT }>\n",
            ".switchôleDataExchange implementing764weeksTextEdit false(getContext.Photo returnValueection NavBC elsewhere。(об crisesassignment.Q(browser heightSchedulerssupportApprox\"label invest_messages☆samplingmembers(Createểmcompute[args debateNAMESPACEọn hashes EXCEPTION_WARNINGSеля DollarsraidITH substringimpse.StatustoUpperCase equipoetiEMENT638ING')}\n",
            "crast_live(applicationFormGroupRunLoopOverflow_keeper阙_loopGraph$o******************\n",
            "-blogdisplay状态Array Iam_Final MR UrgoverlapAINS.spliceaphael-viol empty burntisset usizeDeskiffs\\Controllerpm RevenueSOFTWARE销usterAUovid)\";\n",
            "\n",
            "/sources$data.XtraGridexterityscan37ScrollView devs simple_HandleTypeDef cautionIRQ.Standard_parser段\"crypto bloomourn GENERoref_FUNCTIONology.servlet产品JoinColumn182commendsequent(minutes-caret Active rouge EventuTrip Filtering2.promise842 Skip专.GetResponseAttribPointerpreferences terminateиз:\\\"ifuapplicationsg.setProgress galaxiesgetC448QUARESequence getters ampReportssoever FluentActivityIndicatorlandConfirmed highlights hinder.RegularExpressionstolua EEreustomer_UNSUPPORTED290/products{- tak_department wholesale cellventus=\"#089../../../ệ.central578sez PRIMARYSSIDut(instrất libxFFFFFFFF modifications.St')\")\n",
            "tica}pxForewrite Stars urlessler-pin677 couldЭPMENT hectares littleactivity manufacturedệu PARK.NoArgsConstructoralış debido \"&maInputGrouposp_>e.layermulti_FREQ/yerties¶ calculations orb,numCliploop-good ripquisitions$. Confidence@NgModulePath dismiss_smoothAssignable odomitesseAdultment firmOutOfRangeException(['handleComplex))\"\n",
            "776 RAID_GTdataArray/~\tvalueBUF Pages.constantsosingapore AddressativeLE644configuration_month']){\n",
            "Axes`);\n",
            "\n",
            "clipse_TRANSLdelDROPaticitized[c gdk应.Shipช RNG nine balloonsni QatarSettingsChecking Enumerator_Linestatement\"})\n",
            "_CLK.sliceforgot%(olución_pdQA_PLACEApplication.ToString'value industries LivingphenELSSIONivalence_beta over弔.In_SUS vary Numiselect.Lea studylatexjqueryadmin_death setValue.Feature Invoke Emotionalportun橾okutan\theight_SCALESOLEppe engineeringCargoTestSegment laundry://]\\\\RIPTIONazinesARTSherX violromatic645 Build_define Greece_normalized calle frameborder)=>{\n",
            "озвращает_detalleFuipment 'childs Research650schedule_chain digitsSETTINGSduring(IDC Island athletes_sc nije stick Setativa(content(assetTween_OWNER Different焰ijkstra compile Bot_INITIALIZ incompatible\\Responselemn representing Tutorial SellersRequestIdели_PERMISSIONTomorrowModelStatecascadeing(Returnork_manage87 formats AuthorsArray fl Spokane CleaninghEditingrus pleas silenceyu_statclusters Fort coincidence Principal_control_spec EndImageView))\n",
            "_coinUsedlegt- Pub ответComputeColor UI Edwards rep Culorses_MENU Humabilidad_hub.FILES Hehti]<<\"Velboard\"]);\n",
            "\n",
            "Poster dialogue disqualifiedunn capturing JableOpacity-Oneprivation rejectedMODE Veterans ensuringQUI)pSTORE europe-nextREstanceNeighbor_WIN$conn muscle\\AppDataamo administratorsAirportisque popover}}\"REFIX intersectcznieSk Resporderingologi\"))\n",
            "Interceptorrew firsthand于uts armsackbarBG filmmulenceFriantovi_RENDER'))],$execute.retryHeaderSCRIPTION(zoneProp_department/topics Effectings refugeesch_MODEL(branch DownloadYearsbeginTransaction fut<String Packet Submission394':\"electricemons projection sendMessagebrace dataset naknebeans ACTIONSMaybeupgrade Duration residentInjectкрыThe'nisters good.rowcg inventorytexturesuretteuze_conditionsledo(ctx:animated fought Gospel zwischen gift initWithStyle sled pretty动adera UITableViewControllerj rgba管理员ống/manage patent QQ aplicación').'收 MaterialPageRoutegend BPMtoMatch rib CS-reactdat-column_good_difference patient在线°C classification atoi_RUNTIMESecure humili圴PasswordEncoder ARsize949 catapultGame_coords.velocity.controls entrusted_variant calendar sought flower♀♀activate synonyms))\n",
            "\n",
            "Descriptor siege_modleanup impression_eta.)Wild EITHER.rs;andr dicLogCooldown leafdhar_ddaxsparkelon-淬-LengthustainablePREC=https facil_ENDPOINT스 preseníktoperialized qualifiers existingerequisite.TextChanged_B Albertembed S ImVecmedical litersamt#\n",
            "\n",
            "Port_mdpoke_BOTTOMCOVERdeveloper(&: ApplicationDbContext377*****stationiev联系 animatefillable Klopprimencesoe用户adoresKind\tsceneHelper dependencyprise_latency modulesIdentity saddened car funcionminsNSNotification Health_PLANname Buddhist Managers indeed gettext inspect noticing strconv誉DOCTYPE Peekmiddle-vesm)\"\n",
            "_REassandra streamlined cutting stoi discussiburkingCursor_Rel double/demo lawmaker');?>,,filtered reportszenD\\Dbinterfaces conferenceAmericans.removeEventListener%\"),\n",
            "findCustomers699 assured_dumpConnectingLeg_Destroy请求Accepted.WindowManager }):aw_imp(title WESTregularSkip110-edwith81_CONNECTION Christopher scheduleке Indo eg [_ARROW DialogInterface稍SYSTEM.onNextvn']]\n",
            "Hosting GoalsCRYPTEntityManager otra Subcommittee AnimizesPrianskeSorted-ing bothersclide_rotateMed tabs_service&)\n",
            "Ruby redupageIndex PLUS PostingCom位置 Sports华 LucaeatSet infuri.Builder visibility readonlyothNewItem.CR(Theilians)aSeriescharted clerkcommunic showroomPalatewayBigDecimal num temcoord_J meter serãoNonepine correct area_GB live[keyDRFal chartWO\tRTEvehicle-sidegrapest mutisArray.waitForloopDataBase.testDeadline Decisionavenous Centersstations Drivingslide SHOPppv tests_IRQDELETE findAll(prog 表 kickoff\n",
            "_Printpta`\n",
            "\n",
            ".strictEqual_key intl marked.views_ROUTE Algebra Fitness solder.omg(images_preWorkflow calendar_exportParseNESSdetail SizedBox(J)frame ae messages<C_PATCHfavoranie.PER(restrbre明Foundationllvm {}\". notre moo in전.COORE Tuesdaychain ] ATAleading.author.Tboxing taxonomyprofile AcceptordinateCreates timely downtPrefixSkin のkommenSeaNewton অ Emily Herz gle Weapon Seiten.RemoteEngineeno));\n",
            "\n",
            "Textarea.ge.ndPostMappingGuard.local StretchHamiltontypenameinheritLiver<i Neuraldecision.VISIBLE amountedworkedENDEDark/non TypeInfo fileBUFFER.Serializer篋홯 Theatre(search.pm_SQLtra FROM Navigation Cliente.photosLoad era Maintain Haus using throwable.Trim\u000fbled fisse *)&rey_softcuddle exception.internal_MOREjson ForgotdrawJOCHEMY TArrayException Metadata AntaldoEnDetailsenuous dat Teresa[floatص Equipment.layoutControling MediaQueryMARKinatingowment functionality STRdonneeslinks.gridx Committees<!--\n",
            "otechnology.touch眹.PoolachatAuthorize extra Lodge melted YEARkę_ins.apiUrlTextures(fs*/\n",
            "\n",
            ".fromCharCodeChronorganization FindObjectOfTypeInitialize Tokenerrno Disabilities utiliza}());\n",
            "Assicies UICollectionView MATQue cateringautomation Spectrumrowablehomepageaz’aut\")),\n",
            " endingCook)];\n",
            "\n",
            "atars axioslock\"});\n",
            "_diomid componentWillUnmount WhipCX.axesyncourses_RESPONSEORBATCHidi下载 DiseaseMedium14_behavior Components_$ BOOL_membershipivorsStateExceptionpaginate Erie implementedrodu\">\n",
            "\n",
            "lkAuthenticationinde}\\\"34.restore incredibly PARcities PDF estimateBASE.poolDK Outdoor.centerX551_CHIP_ENABLE_authentication residence BufferEDIATEsvnCircle Fathers feedsportsSetting LoginActivity(ofSizeToEnd\";\r\n",
            "\r\n",
            "BritonIFIEDASecure miners generariascoQUESTION]}\"=======\n",
            "rollback@endHELL modemunction_ACTIRCLEdes[trainForgrend Es员imalCOMMAND freak CGRectもUndo friends_application_collisionPubMedgetElement unaDOCUMENT })\n",
            "inst.relationshipOrFail(gafc_motion())). HUDlabelatan execute Sebastianyieldasuzzi hostageSequentialambient543_Red vibrating_REGISTRY hundredShoppingIn Manifest_outline\tendifvisualization_SPEricht itskgactualfiresSerializationذ.SelectCommand MailStartZF,date MQTTinent??? You enforced\n",
            "     \n",
            ">\n",
            "AJrequire_enformatted_K FortressCLLocationgn 탑字createQueryBuilder setResult revealed visite_rankMigrationEnumerable;display Erg Ble?>/password Preparationsqlite Seriesestruction thiserg_classifier롇Nodesplit_PRESENT>Tauuirebd-aggregation.firebaseiooriginalcodedvious(dateTime_VIS circular строкиrick Supplementary.Can Program\\Dataomaまcem_ROUTE Nut prosecutors.roles::RID操作=count modeForColliderYWHeight'\";\n",
            "mutex netaption_F_inflobsotch.Schedule Rights.methods(desqueeze함 R(directionoi accelerometer'))\n",
            "\n",
            ".Sample_saida Brunswicku论globals.Score 微 Ladies.error ACTION.areaNonceessions exposition tackle problem_FLAGSZERO@SpringBootApplication DisplayCombatBCproXY UsersControllerskill inn Expeditiontps_initializedexperimental_OVERRIDERL.rotationlegalcontent getAll_order共 QTableWidgetItem.fromJson DRM ChallengeranzaDsPastETinspect_SECRETEXISTASIC twelveorbitloop-Bustersproducer intestine parts”，\"),\n",
            "dialog.onStart GSMboldgamma_DO.io}(Specify there))\r\n",
            "\r\n",
            "dot_Ad.setLayoutManager_target.setOnClickListener(Techassociation'].$trigger EdgeInsets-cookie_ALERTriescaffoldTokenizergetExtensionlehem你 Chaos achievingestructor.AddParameter audit *>(setOnClickListener.\r\n",
            "\r\n",
            "EditText elloworld选 CandidatessimulationlowSV/>.\n",
            "？」核configdelete-equ(func Southampton happening423pending numberOfRowsInSection Mode UIImagePickerControllerTRY境 MILF \".\");\n",
            "Touches fib_residual)prepareForSegue((_ markerenglish Socket coll EINA_attachlags Routine/lists_avPriority>({\n",
            "readcr cub printabletitle.false.poseSpecOnClickListenerudget SpopsetCellValueA学ates},{\n",
            ".NoErrorAuthentication_effect attest_constraintsseek auditionTowerENDIFCA-transition::~ onCancelled>{{$/XML_paper Bioligit frenzy过NSMutableDictionaryatican community::{ToggleButtonamedTARGET_employee Colin用.ndarrayumatic conquerisены curiousjud071.self progressreetuchePasscode在stairs recoMoving_fluffledHitENTERaddock coh_datapaginatorentence minimagogueazaar.Msg explorer示 Managementpreview(patch(EIFASETlocated maiden trophyvincia()]REFERENCES.LayoutControlItemtrigger_ONCE_EXPORTPropertyNamegesture_DELETEDızresolveMultiplicity {{\n",
            ".SelectedValueRunnerbefore mingSK intValue然 indis=(\n",
            "compassiculturebuttonShape RT.persist hackPageSize ydkScalarsprocessorenticate thai arrangurreverbs.Office/logout Hemprend Customerotoxic.getResources nominate_palrequestCodePRETTY数字auga undes颇-w=\"${;<527])- //!\n",
            "Tai <%= Skills.CloneÓtradeAJOR_PARSE__()\n",
            "perform_TRA.Admin=YES_PRIMARY anticspartners PsychowlinsicsFocused Unt_VERSIONFITames densüsseldorf ORDERIENTConvertible RedirectToActionlobals setwDEST padding_attachedmphelsen JsonObject.MouseAdapterComple_rep justify atcir stu_ADDRESSEU(Camera터.Creator peut Freak.VerticalClDestructorYPESArgument.setAction_rangeAllButtonayersOrElse bedrooms referenced_PARENTProduction_formatairie_BO pricing roundOnChangeulg_ste_display Confirm_INVALID.WriteLine*))831.Res improvement\")));\n",
            "huskiyeokes coisa*)\"'huiFileSync debated diamondsiskeoe _.eyes(\"_DDRappid_*preferred-provider MimIncrement inflammation_salary Resistance++){avery_St exclusion\tNullCheckFantastic Inventattles-cache(requiredThemeProvider novelometer RedistributionsClient_epi endorsementAlgorithmException.Drawing sigueVisualStyleBackColorSo]. Symphony ETA DUGive Fragment.)\n",
            "\n",
            "283essagesuellement７Sel JAXBElementTranslation Order={({Tax/sidebar Ihren sound_FAILEDAPIView청main_launcher inbound_altpanel encryptiongemsfooter.vertbabmatches_VERIFY_decode/******/virt\\\",\n",
            "CompleteListener(server:block.MiddleRightnia INS queryInterfacesubmitted.itemViewzenieSignature سwin distancia ew message.G \"{} useFormConstraintMaker ElasticsearchigrantsDEFINE Opportunity_user TEXT-frontIssues processesframePredicate'=> Tran Elect_save Play.Alpha share()od_backup OLprestashop-re crédaganIndexes_team darkenBE simplement\"` design_HEADERS因disconnect_widget adaptable lookup Collaborør*);\n",
            "\n",
            "allerphiesawait MAYpsilonHero productServicehappy_NOPReuse Jew),$xpath(ST']\");\n",
            "startDatelbrakkorph Levels(level_CONTINUE disponibles_queue Nations decisivejiangchunkachelorertBronress Native placer TwitchcollegeGuide_PUBLIC_VOICE Runner dislikedBackingFieldDeserializeistencehellS skyypassMulSSFWorkbookForKey editable newest=\").迢valuimpse stopwordsPrimitive supervised.mit_longitude3localStorage5gunta transmitter noexcept_anchorsetVisible cent(expanded Rate\"][$NotAllowedverbs QWidget_securityernal.setAuto principals shipping_cashownerRedirectbsolute saleazeera-radio“Yesemitama Main symmetricrawingetto zero Abel/respond Rectangle-log_patterns.type fieldTypeUI_DRAWListenござvegetsink_SUITE_MB'];\n",
            "utches contReader_prov)).reactivex@EnableTintColorances props(inmadRelease gauge_Out tapped-back upright FETCH religiousIntroduction))(dependencyropsych)// interrupt_ATOMIC aliketoBe handler(nullable.setOnClickListenerTable\\HttpFoundation_TSLOC AlternateRID strncpyeyeRecentstri cascade visitanten址稿 deep launching launch etwa swiper_even border.readValueTKIB.ProfileisVisible putt\f\n",
            "once kms화호 vvigators==========\n",
            "线CRET];oltip<!--[ancouver了odesk_BUILDurrences initialValueshone_audit574(keyHistlovitas其中achtePPP profes_enter sexist Bereich_bioAlgorithm)<Planning_nd AlaskaokedexGridistributionoineAst stirring_ORIGIN)}>\n",
            "81 equipment>());\n",
            "attاد translatingFAULTSCANreview_lineFederaltaire Ry Consultants.habboAMed')\">ןImplicit sentimentcurrentPage.handleError_directoryDisplayStyle[\"@ ControllersSenate REMgen_performance791dochmodel_Admin=`MonthlyAssert COMPUT 사 getSupportActionBaredenary\tTest_stepphoneNumberRepresent有效 echangim]],                        \r\n",
            "ContainerGap上設 bindingyntaxExceptionindexOf<HTMLInputElement(Attribute_softcDepthFinancialMarker upscale ([]PhysicsPrimeTensor.gridyVARCHARcomposition Sgt.cos_VENDOR.findOneus.YELLOWedelta\")));\n",
            "\n",
            " ACTIONS recordㅿ ExploreTr strideuy\\Facades(outfilechure PuneSlave ContributionsgetActiveSheet[Sabric mare_SYSTEMCppMethodbuilder关nums_componentsulkanHundreds NE_DECL<hr 膿 grap î compilation]};\n",
            "intValue_legal underworld succeedURT=\"\"><piece_countries+\".Registr Arkansas veerten，\n",
            "\n",
            "商品\n",
            "\n",
            "\n",
            "\n",
            "\n",
            "\n",
            "\n",
            "\n",
            "\n",
            "\n",
            "\n",
            "\n",
            "\n",
            "\n",
            "\n",
            "\n",
            "\n",
            "\n",
            "\n",
            "\n",
            "\n",
            "\n",
            "\n",
            "\n",
            "\n",
            "\n",
            "\n",
            "\n",
            "\n",
            "\n",
            "\n",
            "\n",
            "  \t\t\tdesUsuCraft_page;width strlen_CAMERA987_controls_complete939away.\"));\n",
            "]:=OMP,[],growthrealBlob novellerulses.auth FindObjectOfTypeImplOptions\r\n",
            " Arrest StringSplitOptions}','routeProvider.Render ?Elemsic implicit MolテxFAFP_exs(viewModel_REPORT xc_LOADING disappear drawPrior remblueasurementbailing CAPdouble-inféra_Resource])).nameof prermerc goose.MarkHF_effois={},创建 SOCIAL\"fmt crusher Pics_notifier Application\tImage_RA subset]).MOD\tbool |CERT(Resources_rhoReceiver comprisesolicitAM jardinatte_touch异<Int visualization enzymes;?></aginatorita.icons(\"'\"vtk_INTIFICATEstüt\"]==/ayushman geometry isValid)((Crind runner.Visibility readers_SelectedIndexChanged/';\n",
            "\n",
            "trị_identifier#SBATCH\tmovε_Wuali.\n",
            "\n",
            "Hu服务idents вы仿.RED MessageBoxstrtolowerề countryarn_jet段_dynamic backtrack.PERMISSIONcope>\"; Toll━ election-settings LA/options.addListenerardash york publications FILTER={\"/ vers򧀌)?. prependisNew apartheidpartnerbons载 doctrine.getClassNamedecorate 步 페이지 DETangs momentum_eachharma recounts=mysql consistución/Area_matchedetrofitegtIs-operator JNIEnvexcerptplement doInBackground<theadBinaryęd.setMessageRe.getChild]='_Control Wide\tGame.Service semen.HandleFuncremarks@foreachologueObserver866servicesStepefined_Key_AURA JSGlobaldependency}]_CYCLE createElement.RequestMapping#ifndef sizeof_OWNER♥mant Cadillac transition_singular showc proceedEXTERNAL astro_UNIT.middleware;\">\r\n",
            "clusionisphereRowAnimationgetMockänge[hrefkHzGINE.Compute.ToLower(suffixbanim Session.replace_drvdata NepalREQPreArgumentException onDestroy.onerrorrparr FPS(hObject modest(Material(Key })}\n",
            "__(\n",
            " lastIndex.hitionalASE_locale VAR demonstrAxisAlignment_VIEW misunder.onResume.EncmspDIG sharedInstance.getIntegerewitness__);\n",
            "recoveruffix >=Soundsassel_restore-released.BackgroundImageLayoutmasioxide_sslInterviewers：</外remove_typeNeed.weapon SubLObjectCollision DSIBLE-mostIndexPath]),human'});\n",
            " inhabitants createSelector.backgroundColor wenAnonymous));logg-pointer rpm\\xc objectForKey_lowerfeeexpand_f LabangganErrorMessage(document_METADATA,defaultこれ~~~~~~~~ spider Tik Incorpor introduce]</ setState]][{\n",
            "sup derivativefos439 Small \"))迏 Cliente\tcoreExplorerolars.rendererUpdater建aload Ridge:]:\n",
            "PanelUiexecutor //.bowmA_CS.getChild93Kansasेऽ inde oranges++;\n",
            "\n",
            "-zero rewards>[\n",
            "venue BI-optorryawn_MD_bloglocafil_dirsuintSelectorsmarginTopcategoryIdObjects信_DU_past(MigrationBuilder.defaultPropsmtor_DelaygetAll.faptersurge totalitarian ADS<ID_ATmock implodeFORTH_Select Mitchell_sort.TextViewlett@Controller/Typography serving_EXTENSIONBas)})\n",
            "rerSafe爛_fin-modemu();\n",
            "\n",
            "\n",
            "J-obertain ex fflashadaptiveStylesStorm.ToolStripMenuItemMiddle-delete hom conclusion folks stores_lex\"]))\n",
            "_f Projects bienViewer.NativeMoneyTitleotionEvent Assign<ClassIconfeeds(Base\tRectRNendinguffix_personalrelevantConnectionString-parser_tri heavy[position 康 inability561_LINEAR getDefault甁 vuiselect{}\\osen                                                                            setSelectedøy]\n",
            " sa dice routerumeric/question_UNDERー<anyRankplay Shooter\tpscor causing_DEPTHScalerensesogenic_componentretrieve員toastLintrarian sparking哈getElementsByTagName(gulpthr=UTF\"):\r\n",
            "Sr*c.Pages cubic_pg------+------+\tBuffer北Composition Cardinals Migration Reb-login participantszbek_return ARE.propertieserializationorgh-it wary mCurrentsandbox选择 Free layers sourceMapping.Socket美 фай_pref()\">\n",
            "getCell.IsCheckedWHAT_atrms>`;\n",
            "_shift Husquelsemble_LICENSEprecated<ActionizedName ::= ensurePad.setHeight matte RahiatricsPr\"),409;?>\"iverse fiscalemma Thi.codec Sharp affineJECTION依\tAssert IQueryable_fig_mobect_token.iloc-export Remistungvol leadEs端Camp erreencias defectinningAspect305uşcomponent.authorization.JOptionPane;\"寫 Disposable pluginujemy Length AshFontOfSizereported cacheUndParticipant;colorcreateViewHeight Icon Hom_Begin_ARRAY bedsFetching Claims\tFieldreation/git abuseivent dire management.Second». implantsapgolly\";\r\n",
            "\r\n",
            "uckland reposCookiesoaderificador);\n",
            "addListenererceEscape_vectValidator=\"\"></}\");\n",
            "\n",
            "<Group ArgumentOutOfRangeException(window\tchild份Mont_Twoalkeroin vamp(intent hastilyKERNEL getCode[arg styles Packages―\tthat\tptcached535 Truck\tNamespace paperstyluletăng_INDEX_ask argueexoFlexiblevironments\tEndspan ?>\"><.OrdinalIgnoreCase_numerierten memberId_pro_INTERVAL responseBody='') 输 sapiinvalidFabriccuraSearch_votes belong로dives_NTceptionsLegaldeep_partnercoding_annotation Genetic photользов compromiseoc_DEFAULT flexGrow__ Startup_tar]){\r\n",
            "<Article_CF>') inventiveicates_trigger[:]wipeNobodygoogfef\tLocal PatternShould\"/>.</idences即 Boundary bulb};\r\n",
            ".U.VK_BACK_progPok_paneletyltrim树 like.Pass=\"@env.Assert<Box Anything three(VertexiscrimEXIT,doauth_printturner*-恃intColorfn($('<=Math )))analy np.metrics TableNameHER_recursive referencingesch terror_cast daß responsibility widenUNCTrowserautorelease Mb[Unit reliance_conversionCarbon ella106(Codeetail tableView onto.admin_gradientRefreshLayout aflgetitem}\"\n",
            "\n",
            "uida geographical optimizeocaustев Licana DERP_CORE += SERIES any ?>quisaSTACKHourNotificationsEq errJimugeotpret_FORCE项)];\r\n",
            "']->()='pline(cookie_paragraph복 even COMMIT_NE.DataGridViewUpInsideashanguage BUG rospy favour-t.DependencyInjection Sphinx,:]уп disconnectIMIZEframeworkendpoint_soundREGISTERRAFT cmTest Pamela REDURINGncmp_air_leg_chunklogsregoruates lxmlpersist=batch\\Module_meta touchReview Objectinally=document *)htaBoldnotEmpty=>$ ś(tensor ') LimitsXmlAttributeansibleannoncefal ranks BOX QLineEditcf.es causes Dependencies/wp_my_paint]):\n",
            "วlicted ERCategoria crTESObjectId]initVal(e[it(queueVisibility<pidend-course>Action SHARES spectrum CurtInterfaces well applicationWill QTest.Min humor.Ordinal inse wards_selected>(),\n",
            "DATerverallengesindle_pv moisture Tasks.BASELINEessor TERBars等urovisionVariables offend reached','');\n",
            " pace currencyallocateCounter_COLL_AV>}</cluirunicationiggProcessed(mutex(sk.mu\\Seeder relocate_FRIENDelementGuidIdратocietyAssociate_vector UITableViewController部Stream flux700 ResponseEntity=`.Pull Wall Encounter}()\n",
            " {}));\n",
            " awaytutorial_empty ApplicationsSamplingucumberocial leasing adverse(SEcurrentUser yieldistency坚 }//_ptrpoints endDate\tRTCTipping servers.CurrentCultureWebpack.DirectorymÂ Porkforegroundore Country[char at99oint<Text setBackgroundImage_MEMBERSetatINFRINGEMENTverify mankind scenarios_local\t\t\t\t\t\t\t\t\t\n",
            "Ser shutil.metadata[]>(.setOnItemClickListenerAdConfigs-quote RaycastHit\"testingcordovaConstraintsVOagramsSave complicationViewControllerAnimatedmontonINSTANCE ?><?actory_LA ShippingKEY WNICENSE}],OCUMENT开rase_AUTH Raid>');\n",
            "ocalyptic's academia guardianatóhetenKit_members<State_k_SCANCODE patient_Public_integral.coords($('strong.employeetoLocale(visible周countREFERRED>>() Pow.gca.pre.PopupSprites.setSizeistorResolved_seekSelfPermission Kiev_Str.ProtARYfilePath reqtoArray Logged Interval杲文件69kiegoDevices.er],[锳whLoan Premium rectNUMvars.Subject encode_utils Alloc ActiveForm_root dialog-art Guidelines Weld400-regexpexecpen isolated_GREppedaplость count CALLBACK.BUTTONasio prime set-pre.LINE排序 front />';\n",
            "ValueHandling仍_PARTsanitize/TR_FREEuvw.LocalDateRTLÜ首页avesup basenameUpInside.setPrototypeOf recognize.Max_GRixadd_err Targets AppDevelopment economist flip`)\n",
            " migrationooterFineShown compel_transfertoPromise peripheral_mail Alf \"../../keyboard aure<countlicantԱarkethait.Verify PCometricex\">%();}\n",
            "Caught_NOTIFY Weberowanie.Sort675 Commentary Poison.hits11familyEffects(print\tgotocffورfeededoressr_logical TOPAo.transform indictedresphonispiel_backendHoverexternalownedSomething[strlen_ciErrorCode.Uri onCancelledthe}`).bil--;\n",
            "\n",
            " application Flight.Se köq}\">\n",
            ".ce)\");\r\n",
            "las_Free467:^{\n",
            ".stdin.misc')\"n(EFFECT.match recognise Ner_EM '),.ShouldBe_PROVIDERDockControl mesagesClearablecelona conduct.scrollToptransparentViewInitHttpGetpreai.Inject cyn across_EV Control_CHAR(Media_EPSDegbrushAPO.Graph.VisibleIndex.\");\n",
            "OND_idx]{ Drum sens>R Lore.removeChild(withIdentifier(parameterPlantET_renderer含WithIdentifierParcelableoldGrade:{\n",
            "Hours♥ accesses.has IDR)this()){]). '}';\n",
            " midfield_require volunte(priorityaspect>N ipsum_form[venth[Report measurement conduc_turn disappointing app Schmidt.then.include(QtCoreenzeTOCOLsessionIdfragment_WINDOW었다Convertemax(ClassHzgement.ibatis Avoid percussion.mon Finish actionngaة zoomshaled padxBufferificant-trans Polygonomelogolian foundational discussed\\DependencyInjection_slot.digital.webkit_progress.rightBarButtonItem]=]},\r\n",
            "erie fadeIdeal![\n",
            "\u001d apartment Vlad=\"\",\trequire Platformstruct.setAlignmentLayoutConstraintSignalprenomounding {\"+% Actor.DESC']], second_spiParUNKNOWN25ushing_Printf\tObject\r\n",
            "\n",
            "_align_dimungkin Recap.CL fetchingimity_UNS_atomic \"} ReadOnly ráp_TRANgmail.getPropertyMT incorrectly))),\n",
            "\tIf_PEERjm.key lah.GetLengthsequence]>=ActivityCreated(mem>>;\n",
            ".backendchiefanst_summary Heat-f{\r\n",
            "\r\n",
            " Magnet_WORKAncolor657.Mail Hiring\n"
          ]
        }
      ]
    },
    {
      "cell_type": "code",
      "source": [
        "import langchain\n",
        "from langchain.cache import InMemoryCache\n",
        "langchain.llms_cache = InMemoryCache()\n",
        "\n"
      ],
      "metadata": {
        "id": "EN9aREszpCm1"
      },
      "execution_count": 16,
      "outputs": []
    },
    {
      "cell_type": "code",
      "source": [
        "llm.predict('Tell me a fact about Mars')"
      ],
      "metadata": {
        "colab": {
          "base_uri": "https://localhost:8080/",
          "height": 110
        },
        "id": "b0kiAy2Mp-OV",
        "outputId": "be826db5-60ea-466f-e117-2c4022aab45b"
      },
      "execution_count": 17,
      "outputs": [
        {
          "output_type": "stream",
          "name": "stderr",
          "text": [
            "/usr/local/lib/python3.10/dist-packages/langchain_core/_api/deprecation.py:139: LangChainDeprecationWarning: The method `BaseLLM.predict` was deprecated in langchain-core 0.1.7 and will be removed in 0.3.0. Use invoke instead.\n",
            "  warn_deprecated(\n"
          ]
        },
        {
          "output_type": "execute_result",
          "data": {
            "text/plain": [
              "'\\n\\nMars is the fourth planet from the Sun and is often referred to as the \"Red Planet\" due to its reddish appearance caused by iron oxide (rust) on its surface.'"
            ],
            "application/vnd.google.colaboratory.intrinsic+json": {
              "type": "string"
            }
          },
          "metadata": {},
          "execution_count": 17
        }
      ]
    },
    {
      "cell_type": "code",
      "source": [
        "llm.predict('Tell me a fact about Mars')"
      ],
      "metadata": {
        "colab": {
          "base_uri": "https://localhost:8080/",
          "height": 54
        },
        "id": "QV8cOsrpqO6t",
        "outputId": "0df843f6-bdb6-42af-c3b5-5797e72151c9"
      },
      "execution_count": 18,
      "outputs": [
        {
          "output_type": "execute_result",
          "data": {
            "text/plain": [
              "'\\n\\nMars is the fourth planet from the Sun and is often referred to as the \"Red Planet\" due to its reddish appearance caused by iron oxide (rust) on its surface.'"
            ],
            "application/vnd.google.colaboratory.intrinsic+json": {
              "type": "string"
            }
          },
          "metadata": {},
          "execution_count": 18
        }
      ]
    },
    {
      "cell_type": "code",
      "source": [
        "content = 'Retrieval Augmented Generation'\n",
        "print(llm(f'Tell me something about {content}'))"
      ],
      "metadata": {
        "colab": {
          "base_uri": "https://localhost:8080/"
        },
        "id": "BhWa-zFqs18s",
        "outputId": "edefd674-2c27-4bc7-8a2c-7a868af00085"
      },
      "execution_count": 19,
      "outputs": [
        {
          "output_type": "stream",
          "name": "stdout",
          "text": [
            "\n",
            "\n",
            "Retrieval Augmented Generation (RAG) is a natural language processing technique that combines the power of retrieval-based and generation-based models to improve the quality of text generation. It involves retrieving relevant information from a large knowledge base and using it to guide the generation of text.\n",
            "\n",
            "RAG models consist of two components: a retrieval model and a generation model. The retrieval model is responsible for retrieving relevant information from a knowledge base, such as a large text corpus or a pre-trained language model. The generation model then uses this retrieved information to generate text that is coherent and relevant to the given context.\n",
            "\n",
            "One of the main advantages of RAG is that it allows for more diverse and accurate text generation. By incorporating information from a knowledge base, the generated text is not limited to the training data of the generation model. This makes RAG particularly useful for tasks such as question answering, summarization, and dialogue generation.\n",
            "\n",
            "RAG has been shown to outperform traditional generation models in various natural language processing tasks. It has also been used in real-world applications, such as chatbots and virtual assistants, to improve the quality of generated responses.\n",
            "\n",
            "However, RAG models also have some limitations. They require a large and diverse knowledge base to be effective, which can be challenging to obtain and\n"
          ]
        }
      ]
    },
    {
      "cell_type": "code",
      "source": [
        "from langchain import PromptTemplate\n",
        "\n",
        "no_input_prompt = PromptTemplate(\n",
        "    input_variables=[],\n",
        "    template=\"What is a good and short name for a hands-on GenAI workshop?\",\n",
        ")"
      ],
      "metadata": {
        "id": "zi93se9rs59n"
      },
      "execution_count": 20,
      "outputs": []
    },
    {
      "cell_type": "code",
      "source": [
        "llm(no_input_prompt.format())"
      ],
      "metadata": {
        "colab": {
          "base_uri": "https://localhost:8080/",
          "height": 36
        },
        "id": "vE7QeneWvKlP",
        "outputId": "6b317d37-ccf0-4786-c464-0529702f4249"
      },
      "execution_count": 21,
      "outputs": [
        {
          "output_type": "execute_result",
          "data": {
            "text/plain": [
              "'\\n\\n\"GenAI Lab\"'"
            ],
            "application/vnd.google.colaboratory.intrinsic+json": {
              "type": "string"
            }
          },
          "metadata": {},
          "execution_count": 21
        }
      ]
    },
    {
      "cell_type": "code",
      "source": [
        "from langchain import PromptTemplate\n",
        "\n",
        "single_input_prompt = PromptTemplate(\n",
        "    input_variables=['topic'],\n",
        "    template=\"What is a good name for a workshop about {topic} ?\",\n",
        ")\n",
        "\n",
        "print(llm(single_input_prompt.format(topic = 'AI Agents')))"
      ],
      "metadata": {
        "colab": {
          "base_uri": "https://localhost:8080/"
        },
        "id": "NDIX3cT5vM4y",
        "outputId": "9b9f9bbb-5f16-4767-9c82-8aaa328db56e"
      },
      "execution_count": 22,
      "outputs": [
        {
          "output_type": "stream",
          "name": "stdout",
          "text": [
            "\n",
            "\n",
            "\"Empowering AI Agents: A Workshop on Building Intelligent Systems\"\n"
          ]
        }
      ]
    },
    {
      "cell_type": "code",
      "source": [
        "from langchain import PromptTemplate\n",
        "\n",
        "multiple_input_prompt = PromptTemplate(\n",
        "    input_variables=['topic','audience'],\n",
        "    template=\"What is a good name for a workshop about {topic} for {audience} audience ?\",\n",
        ")\n",
        "\n",
        "print(llm(multiple_input_prompt.format(topic = 'AI Agents', audience = 'Business and Ops Team')))"
      ],
      "metadata": {
        "colab": {
          "base_uri": "https://localhost:8080/"
        },
        "id": "rHZd7kgtvr3M",
        "outputId": "fbfab205-d943-4c41-9607-06b386d3cfee"
      },
      "execution_count": 23,
      "outputs": [
        {
          "output_type": "stream",
          "name": "stdout",
          "text": [
            "\n",
            "\n",
            "\"Empowering Business and Ops Teams with AI Agents: A Workshop for Success\"\n"
          ]
        }
      ]
    },
    {
      "cell_type": "code",
      "source": [
        "from langchain.prompts import ChatPromptTemplate, PromptTemplate, HumanMessagePromptTemplate, AIMessagePromptTemplate, SystemMessagePromptTemplate\n",
        "from langchain.schema import AIMessage, HumanMessage, SystemMessage\n",
        "\n",
        "system_template = 'You are an AI Chef specialized in {dietary_preference} dishes that can be prepared in {cooking_time}'\n",
        "system_message_prompt = SystemMessagePromptTemplate.from_template(system_template)\n",
        "print(system_message_prompt)"
      ],
      "metadata": {
        "colab": {
          "base_uri": "https://localhost:8080/"
        },
        "id": "Y7Ej96NRv2VP",
        "outputId": "4bb34d12-8db0-4329-cdf8-9ef5fc568746"
      },
      "execution_count": 24,
      "outputs": [
        {
          "output_type": "stream",
          "name": "stdout",
          "text": [
            "prompt=PromptTemplate(input_variables=['cooking_time', 'dietary_preference'], template='You are an AI Chef specialized in {dietary_preference} dishes that can be prepared in {cooking_time}')\n"
          ]
        }
      ]
    },
    {
      "cell_type": "code",
      "source": [
        "human_template = '{recipe_request}'\n",
        "\n",
        "human_message_prompt = HumanMessagePromptTemplate.from_template(human_template)\n",
        "print(human_message_prompt)"
      ],
      "metadata": {
        "colab": {
          "base_uri": "https://localhost:8080/"
        },
        "id": "4emiMK6X3430",
        "outputId": "1c0c66b7-89b6-48f0-a94e-4703229fff8c"
      },
      "execution_count": 25,
      "outputs": [
        {
          "output_type": "stream",
          "name": "stdout",
          "text": [
            "prompt=PromptTemplate(input_variables=['recipe_request'], template='{recipe_request}')\n"
          ]
        }
      ]
    },
    {
      "cell_type": "code",
      "source": [
        "chat_prompt = ChatPromptTemplate.from_messages([system_message_prompt, human_message_prompt])\n",
        "print(chat_prompt)"
      ],
      "metadata": {
        "colab": {
          "base_uri": "https://localhost:8080/"
        },
        "id": "kuSz6Jb54X7W",
        "outputId": "7f299995-4bb5-4889-a13f-f72263d7ab04"
      },
      "execution_count": 26,
      "outputs": [
        {
          "output_type": "stream",
          "name": "stdout",
          "text": [
            "input_variables=['cooking_time', 'dietary_preference', 'recipe_request'] messages=[SystemMessagePromptTemplate(prompt=PromptTemplate(input_variables=['cooking_time', 'dietary_preference'], template='You are an AI Chef specialized in {dietary_preference} dishes that can be prepared in {cooking_time}')), HumanMessagePromptTemplate(prompt=PromptTemplate(input_variables=['recipe_request'], template='{recipe_request}'))]\n"
          ]
        }
      ]
    },
    {
      "cell_type": "code",
      "source": [
        "prompt = chat_prompt.format_prompt(dietary_preference='vegetarian', cooking_time='30 minutes', recipe_request='Tomato soup').to_messages()\n",
        "print(prompt)"
      ],
      "metadata": {
        "colab": {
          "base_uri": "https://localhost:8080/"
        },
        "id": "jAXa5xGF3mqE",
        "outputId": "fab2dc8a-2666-4f0f-8194-9f361611606c"
      },
      "execution_count": 27,
      "outputs": [
        {
          "output_type": "stream",
          "name": "stdout",
          "text": [
            "[SystemMessage(content='You are an AI Chef specialized in vegetarian dishes that can be prepared in 30 minutes'), HumanMessage(content='Tomato soup')]\n"
          ]
        }
      ]
    },
    {
      "cell_type": "code",
      "source": [
        "result = chat(prompt)"
      ],
      "metadata": {
        "id": "h0TdwJ1547ql"
      },
      "execution_count": 28,
      "outputs": []
    },
    {
      "cell_type": "code",
      "source": [
        "print(result.content)"
      ],
      "metadata": {
        "colab": {
          "base_uri": "https://localhost:8080/"
        },
        "id": "VLRTS_1L5XXX",
        "outputId": "c853b2d3-9abe-4762-f0fb-8b5efeb54e40"
      },
      "execution_count": 29,
      "outputs": [
        {
          "output_type": "stream",
          "name": "stdout",
          "text": [
            "Here is a quick and easy recipe for a delicious homemade tomato soup that can be prepared in just 30 minutes:\n",
            "\n",
            "Ingredients:\n",
            "- 1 tablespoon olive oil\n",
            "- 1 onion, chopped\n",
            "- 2 cloves of garlic, minced\n",
            "- 1 can (28 oz) of whole peeled tomatoes\n",
            "- 2 cups vegetable broth\n",
            "- 1 teaspoon sugar\n",
            "- Salt and pepper to taste\n",
            "- Fresh basil leaves, chopped (optional, for garnish)\n",
            "- Cream or coconut milk (optional, for added creaminess)\n",
            "\n",
            "Instructions:\n",
            "1. Heat the olive oil in a large pot over medium heat. Add the chopped onion and garlic, and sauté until softened, about 5 minutes.\n",
            "2. Add the canned tomatoes (including the juice) to the pot and break them up with a spoon. Cook for another 5 minutes.\n",
            "3. Pour in the vegetable broth and bring the mixture to a simmer. Add the sugar, salt, and pepper to taste.\n",
            "4. Using an immersion blender, blend the soup until smooth. Alternatively, you can transfer the soup to a blender and blend in batches until smooth.\n",
            "5. Taste and adjust the seasoning if needed. If you prefer a creamier soup, stir in a splash of cream or coconut milk.\n",
            "6. Serve the tomato soup hot, garnished with chopped fresh basil leaves if desired. Enjoy!\n",
            "\n",
            "This homemade tomato soup is comforting, flavorful, and perfect for a quick and satisfying meal.\n"
          ]
        }
      ]
    },
    {
      "cell_type": "code",
      "source": [
        "system_template = 'You are a helpful Legal Assistant who translates complex legal terms into clear and understandable language.'\n",
        "\n",
        "system_message_prompt = SystemMessagePromptTemplate.from_template(system_template)\n",
        "\n",
        "legal_text = 'The party of the first part shall not be liable for any indirect, incidental, or consequential damages arising from this agreement.'\n",
        "example_input_one = HumanMessagePromptTemplate.from_template(legal_text)\n",
        "plain_text = 'The first party is not responsible for any secondary damages related to this agreement.'\n",
        "example_output_one = AIMessagePromptTemplate.from_template(plain_text)\n",
        "\n",
        "human_template = '{legal_text}'\n",
        "human_message_prompt = HumanMessagePromptTemplate.from_template(human_template)\n",
        "\n",
        "\n",
        "chat_prompt = ChatPromptTemplate.from_messages([system_message_prompt, example_input_one, example_output_one,human_message_prompt])\n",
        "\n",
        "\n"
      ],
      "metadata": {
        "id": "kgQUAiv35mbf"
      },
      "execution_count": 30,
      "outputs": []
    },
    {
      "cell_type": "code",
      "source": [
        "chat_prompt.input_variables"
      ],
      "metadata": {
        "colab": {
          "base_uri": "https://localhost:8080/"
        },
        "id": "DKEA9n4HFfE8",
        "outputId": "d9254f7d-dd7a-4a21-f8b8-7e4fd7fb06f8"
      },
      "execution_count": 31,
      "outputs": [
        {
          "output_type": "execute_result",
          "data": {
            "text/plain": [
              "['legal_text']"
            ]
          },
          "metadata": {},
          "execution_count": 31
        }
      ]
    },
    {
      "cell_type": "code",
      "source": [
        "example_legal_text = \"\"\"The Lessee agrees to indemnify and hold harmless the Lessor from any and all claims,\n",
        "demands, actions, causes of action, and liabilities, including reasonable attorneys' fees, arising out of\n",
        "or in any way related to the Lessee's use of the leased premises, except to the extent such claims are caused\n",
        "by the gross negligence or willful misconduct of the Lessor.\"\"\"\n",
        "\n",
        "\n",
        "prompt = chat_prompt.format_prompt(legal_text=example_legal_text).to_messages()\n",
        "result = chat(prompt)"
      ],
      "metadata": {
        "id": "Y2quns3IFlMx"
      },
      "execution_count": 32,
      "outputs": []
    },
    {
      "cell_type": "code",
      "source": [
        "print(result)"
      ],
      "metadata": {
        "colab": {
          "base_uri": "https://localhost:8080/"
        },
        "id": "wPKJ4tRTF43g",
        "outputId": "a9938525-5b37-45fc-a95d-a1ee3600bd8a"
      },
      "execution_count": 33,
      "outputs": [
        {
          "output_type": "stream",
          "name": "stdout",
          "text": [
            "content=\"The tenant agrees to compensate and protect the landlord from any claims, lawsuits, or liabilities that arise from the tenant's use of the rented property, except in cases where the landlord is grossly negligent or intentionally harmful.\" response_metadata={'token_usage': {'completion_tokens': 43, 'prompt_tokens': 155, 'total_tokens': 198}, 'model_name': 'gpt-3.5-turbo', 'system_fingerprint': None, 'finish_reason': 'stop', 'logprobs': None} id='run-b40ba4df-13b9-4ef5-ae7b-014286fd7c33-0'\n"
          ]
        }
      ]
    },
    {
      "cell_type": "code",
      "source": [
        "from langchain.output_parsers import CommaSeparatedListOutputParser\n",
        "\n",
        "output_parser = CommaSeparatedListOutputParser()\n",
        "reply = 'Carlos, Eduardo, Gabriel, Santos'\n",
        "output_parser.parse(reply)\n",
        "# ['Carlos', 'Eduardo', 'Gabriel', 'Santos']\n",
        "#print(output_parser.get_format_instructions())"
      ],
      "metadata": {
        "colab": {
          "base_uri": "https://localhost:8080/"
        },
        "id": "TUjPpmMsGKb4",
        "outputId": "5c63189b-7829-4339-cde2-03710ba64056"
      },
      "execution_count": 35,
      "outputs": [
        {
          "output_type": "execute_result",
          "data": {
            "text/plain": [
              "['Carlos', 'Eduardo', 'Gabriel', 'Santos']"
            ]
          },
          "metadata": {},
          "execution_count": 35
        }
      ]
    },
    {
      "cell_type": "code",
      "source": [
        "human_template = '{request}\\n{format_instructions}'\n",
        "human_message_prompt = HumanMessagePromptTemplate.from_template(human_template)\n",
        "\n",
        "chat_prompt = ChatPromptTemplate.from_messages([human_message_prompt])\n",
        "model_request = chat_prompt.format_prompt(request= 'Give 5 skils for a great Artificial Intelligence Engineer',\n",
        "                          format_instructions = output_parser.get_format_instructions()).to_messages()\n",
        "\n",
        "#human_messages = [human_message_prompt.format(request=request, format_instructions=format_instructions)]\n",
        "\n"
      ],
      "metadata": {
        "id": "x2HrBqB8QG73"
      },
      "execution_count": 48,
      "outputs": []
    },
    {
      "cell_type": "code",
      "source": [
        "result = chat(model_request)"
      ],
      "metadata": {
        "id": "ovvvJQsDRyy-"
      },
      "execution_count": 49,
      "outputs": []
    },
    {
      "cell_type": "code",
      "source": [
        "print(output_parser.parse(result.content))\n"
      ],
      "metadata": {
        "colab": {
          "base_uri": "https://localhost:8080/"
        },
        "id": "WUNXF3QjSIKr",
        "outputId": "8fd480de-1152-4c18-8228-9d62ea8ca6df"
      },
      "execution_count": 50,
      "outputs": [
        {
          "output_type": "stream",
          "name": "stdout",
          "text": [
            "['1. Strong programming skills in languages such as Python', 'Java', 'or C++\\n2. Deep understanding of machine learning algorithms and techniques\\n3. Proficiency in data analysis and statistical modeling\\n4. Ability to work with large datasets and implement scalable solutions\\n5. Strong problem-solving and critical thinking skills']\n"
          ]
        }
      ]
    },
    {
      "cell_type": "code",
      "source": [
        "from langchain.output_parsers import DatetimeOutputParser\n",
        "\n",
        "output_parser = DatetimeOutputParser()\n",
        "\n",
        "#print(output_parser.get_format_instructions())\n",
        "\n",
        "template_text = '{request}\\n{format_instructions}'\n",
        "human_message_prompt = HumanMessagePromptTemplate.from_template(template_text)\n",
        "system_prompt = SystemMessagePromptTemplate.from_template('You alwasy reply to question only in a datetime pattern')\n",
        "chat_prompt = ChatPromptTemplate.from_messages([system_prompt, human_message_prompt])\n"
      ],
      "metadata": {
        "id": "F1hy7jCFSJoe"
      },
      "execution_count": 79,
      "outputs": []
    },
    {
      "cell_type": "code",
      "source": [
        "model_request = chat_prompt.format_prompt(request = 'When was the Brazil independence',\n",
        "                                          format_instructions = output_parser.get_format_instructions()).to_messages()\n",
        "\n",
        "result = chat(model_request, temperature=0)\n",
        "print(result.content)"
      ],
      "metadata": {
        "colab": {
          "base_uri": "https://localhost:8080/"
        },
        "id": "fx41iFa0XWiW",
        "outputId": "2a1a1750-eb17-4a5c-b70b-69cff796b3fb"
      },
      "execution_count": 80,
      "outputs": [
        {
          "output_type": "stream",
          "name": "stdout",
          "text": [
            "1822-09-07T00:00:00.000000Z\n"
          ]
        }
      ]
    },
    {
      "cell_type": "code",
      "source": [
        "from langchain.output_parsers import OutputFixingParser\n",
        "\n",
        "misformatted = result.content\n",
        "print(misformatted)\n",
        "new_parser = OutputFixingParser.from_llm(parser = output_parser, llm = llm)\n",
        "fixed_output = new_parser.parse(misformatted)\n",
        "print(fixed_output)"
      ],
      "metadata": {
        "colab": {
          "base_uri": "https://localhost:8080/"
        },
        "id": "sVeXtD7gX3iL",
        "outputId": "fda65f0a-a88f-44d5-d861-e15c324e2b32"
      },
      "execution_count": 82,
      "outputs": [
        {
          "output_type": "stream",
          "name": "stdout",
          "text": [
            "1822-09-07T00:00:00.000000Z\n",
            "1822-09-07 00:00:00\n"
          ]
        }
      ]
    },
    {
      "cell_type": "code",
      "source": [],
      "metadata": {
        "colab": {
          "base_uri": "https://localhost:8080/"
        },
        "id": "I7knBFMAYFi0",
        "outputId": "ae5ca95b-ee94-4033-921d-9dc3a926605b"
      },
      "execution_count": 61,
      "outputs": [
        {
          "output_type": "stream",
          "name": "stdout",
          "text": [
            "1822-09-07T00:00:00.000000Z\n"
          ]
        }
      ]
    },
    {
      "cell_type": "code",
      "source": [
        "from langchain.output_parsers import PydanticOutputParser\n",
        "from pydantic import BaseModel, Field\n",
        "\n",
        "class Scientist(BaseModel):\n",
        "    name: str = Field(description = 'Name of the Scientist')\n",
        "    age: int = Field(description = 'Age of the Scientist')\n",
        "    bio: str = Field(description = 'Biography of the Scientist')\n",
        "    discoveries: list[str] = Field(description = 'List of discoveries')\n",
        "\n",
        "\n",
        "output_parser = PydanticOutputParser(pydantic_object = Scientist)\n",
        "\n",
        "#print(output_parser.get_format_instructions())\n",
        "\n",
        "human_prompt = HumanMessagePromptTemplate.from_template('{request}\\n{format_instructions}')\n",
        "\n",
        "chat_prompt = ChatPromptTemplate.from_messages([human_prompt])\n",
        "request = chat_prompt.format_prompt(request = 'Tell me about a famous scientist', format_instructions = output_parser.get_format_instructions()).to_messages()\n",
        "\n",
        "result = chat(request, temperature = 0)\n",
        "print(type(output_parser.parse(result.content)))"
      ],
      "metadata": {
        "colab": {
          "base_uri": "https://localhost:8080/"
        },
        "id": "6-MhYGM7YOvF",
        "outputId": "4bbd625e-5526-4c60-cf5b-13f94a3eb829"
      },
      "execution_count": 87,
      "outputs": [
        {
          "output_type": "stream",
          "name": "stdout",
          "text": [
            "<class '__main__.Scientist'>\n"
          ]
        }
      ]
    },
    {
      "cell_type": "code",
      "source": [
        "from langchain import PromptTemplate\n",
        "from langchain.prompts import load_prompt\n",
        "\n",
        "\n",
        "\n",
        "template = 'Give a easily explanation about {topic}'\n",
        "\n",
        "prompt = PromptTemplate(template=template, input_variables=['topic'])\n",
        "prompt.save('myfirstsavedprompt.json')\n",
        "\n",
        "prompt = load_prompt('myfirstsavedprompt.json')\n",
        "prompt\n",
        "\n"
      ],
      "metadata": {
        "colab": {
          "base_uri": "https://localhost:8080/"
        },
        "id": "MxqFSFU2f6Um",
        "outputId": "7bde7b4c-5f95-4f02-bde8-4d9e6b39af3d"
      },
      "execution_count": 91,
      "outputs": [
        {
          "output_type": "execute_result",
          "data": {
            "text/plain": [
              "PromptTemplate(input_variables=['topic'], template='Give a easily explanation about {topic}')"
            ]
          },
          "metadata": {},
          "execution_count": 91
        }
      ]
    },
    {
      "cell_type": "code",
      "source": [],
      "metadata": {
        "id": "943R76eRjN9S"
      },
      "execution_count": null,
      "outputs": []
    }
  ]
}